{
 "cells": [
  {
   "cell_type": "markdown",
   "metadata": {},
   "source": [
    "# Import Modules"
   ]
  },
  {
   "cell_type": "code",
   "execution_count": 1,
   "metadata": {
    "colab": {},
    "colab_type": "code",
    "id": "6VXPfRp-tARR",
    "outputId": "6c27acaf-2c6a-467f-fd7a-68efce98e30b"
   },
   "outputs": [],
   "source": [
    "import pandas as pd\n",
    "import matplotlib.pyplot as plt\n",
    "import re\n",
    "import time\n",
    "import warnings\n",
    "import sqlite3\n",
    "from sqlalchemy import create_engine # database connection\n",
    "import csv\n",
    "import os\n",
    "warnings.filterwarnings(\"ignore\")\n",
    "import datetime as dt\n",
    "import numpy as np\n",
    "from nltk.corpus import stopwords\n",
    "from sklearn.decomposition import TruncatedSVD\n",
    "from sklearn.preprocessing import normalize\n",
    "from sklearn.feature_extraction.text import CountVectorizer\n",
    "from sklearn.manifold import TSNE\n",
    "import seaborn as sns\n",
    "from sklearn.neighbors import KNeighborsClassifier\n",
    "from sklearn.metrics import confusion_matrix\n",
    "from sklearn.metrics.classification import accuracy_score, log_loss\n",
    "from sklearn.feature_extraction.text import TfidfVectorizer\n",
    "from collections import Counter\n",
    "from scipy.sparse import hstack\n",
    "from sklearn.multiclass import OneVsRestClassifier\n",
    "from sklearn.svm import SVC\n",
    "from sklearn.model_selection import StratifiedKFold \n",
    "from collections import Counter, defaultdict\n",
    "from sklearn.calibration import CalibratedClassifierCV\n",
    "from sklearn.naive_bayes import MultinomialNB\n",
    "from sklearn.naive_bayes import GaussianNB\n",
    "from sklearn.model_selection import train_test_split\n",
    "from sklearn.model_selection import GridSearchCV\n",
    "import math\n",
    "from sklearn.metrics import normalized_mutual_info_score\n",
    "from sklearn.ensemble import RandomForestClassifier\n",
    "from tqdm import tqdm_notebook as tqdm\n",
    "\n",
    "\n",
    "from sklearn.model_selection import cross_val_score\n",
    "from sklearn.linear_model import SGDClassifier\n",
    "from mlxtend.classifier import StackingClassifier\n",
    "\n",
    "from sklearn import model_selection\n",
    "from sklearn.linear_model import LogisticRegression\n",
    "from sklearn.metrics import precision_recall_curve, auc, roc_curve"
   ]
  },
  {
   "cell_type": "markdown",
   "metadata": {
    "colab_type": "text",
    "id": "ZihvUPvHtARd"
   },
   "source": [
    "# Machine Learning Models"
   ]
  },
  {
   "cell_type": "markdown",
   "metadata": {
    "colab_type": "text",
    "id": "CtN9VBPutARf"
   },
   "source": [
    "## Reading data from file and storing into sql table"
   ]
  },
  {
   "cell_type": "code",
   "execution_count": 2,
   "metadata": {
    "colab": {},
    "colab_type": "code",
    "id": "owBQdjY1tARh"
   },
   "outputs": [],
   "source": [
    "#Creating db file from csv\n",
    "if not os.path.isfile('train.db'):\n",
    "    disk_engine = create_engine('sqlite:///train.db')\n",
    "    start = dt.datetime.now()\n",
    "    chunksize = 180000\n",
    "    j = 0\n",
    "    index_start = 1\n",
    "    for df in pd.read_csv('final_features.csv', names=['Unnamed: 0','id','is_duplicate','cwc_min','cwc_max','csc_min','csc_max','ctc_min','ctc_max','last_word_eq','first_word_eq','abs_len_diff','mean_len','token_set_ratio','token_sort_ratio','fuzz_ratio','fuzz_partial_ratio','longest_substr_ratio','freq_qid1','freq_qid2','q1len','q2len','q1_n_words','q2_n_words','word_Common','word_Total','word_share','freq_q1+q2','freq_q1-q2','0_x','1_x','2_x','3_x','4_x','5_x','6_x','7_x','8_x','9_x','10_x','11_x','12_x','13_x','14_x','15_x','16_x','17_x','18_x','19_x','20_x','21_x','22_x','23_x','24_x','25_x','26_x','27_x','28_x','29_x','30_x','31_x','32_x','33_x','34_x','35_x','36_x','37_x','38_x','39_x','40_x','41_x','42_x','43_x','44_x','45_x','46_x','47_x','48_x','49_x','50_x','51_x','52_x','53_x','54_x','55_x','56_x','57_x','58_x','59_x','60_x','61_x','62_x','63_x','64_x','65_x','66_x','67_x','68_x','69_x','70_x','71_x','72_x','73_x','74_x','75_x','76_x','77_x','78_x','79_x','80_x','81_x','82_x','83_x','84_x','85_x','86_x','87_x','88_x','89_x','90_x','91_x','92_x','93_x','94_x','95_x','96_x','97_x','98_x','99_x','100_x','101_x','102_x','103_x','104_x','105_x','106_x','107_x','108_x','109_x','110_x','111_x','112_x','113_x','114_x','115_x','116_x','117_x','118_x','119_x','120_x','121_x','122_x','123_x','124_x','125_x','126_x','127_x','128_x','129_x','130_x','131_x','132_x','133_x','134_x','135_x','136_x','137_x','138_x','139_x','140_x','141_x','142_x','143_x','144_x','145_x','146_x','147_x','148_x','149_x','150_x','151_x','152_x','153_x','154_x','155_x','156_x','157_x','158_x','159_x','160_x','161_x','162_x','163_x','164_x','165_x','166_x','167_x','168_x','169_x','170_x','171_x','172_x','173_x','174_x','175_x','176_x','177_x','178_x','179_x','180_x','181_x','182_x','183_x','184_x','185_x','186_x','187_x','188_x','189_x','190_x','191_x','192_x','193_x','194_x','195_x','196_x','197_x','198_x','199_x','200_x','201_x','202_x','203_x','204_x','205_x','206_x','207_x','208_x','209_x','210_x','211_x','212_x','213_x','214_x','215_x','216_x','217_x','218_x','219_x','220_x','221_x','222_x','223_x','224_x','225_x','226_x','227_x','228_x','229_x','230_x','231_x','232_x','233_x','234_x','235_x','236_x','237_x','238_x','239_x','240_x','241_x','242_x','243_x','244_x','245_x','246_x','247_x','248_x','249_x','250_x','251_x','252_x','253_x','254_x','255_x','256_x','257_x','258_x','259_x','260_x','261_x','262_x','263_x','264_x','265_x','266_x','267_x','268_x','269_x','270_x','271_x','272_x','273_x','274_x','275_x','276_x','277_x','278_x','279_x','280_x','281_x','282_x','283_x','284_x','285_x','286_x','287_x','288_x','289_x','290_x','291_x','292_x','293_x','294_x','295_x','296_x','297_x','298_x','299_x','300_x','301_x','302_x','303_x','304_x','305_x','306_x','307_x','308_x','309_x','310_x','311_x','312_x','313_x','314_x','315_x','316_x','317_x','318_x','319_x','320_x','321_x','322_x','323_x','324_x','325_x','326_x','327_x','328_x','329_x','330_x','331_x','332_x','333_x','334_x','335_x','336_x','337_x','338_x','339_x','340_x','341_x','342_x','343_x','344_x','345_x','346_x','347_x','348_x','349_x','350_x','351_x','352_x','353_x','354_x','355_x','356_x','357_x','358_x','359_x','360_x','361_x','362_x','363_x','364_x','365_x','366_x','367_x','368_x','369_x','370_x','371_x','372_x','373_x','374_x','375_x','376_x','377_x','378_x','379_x','380_x','381_x','382_x','383_x','0_y','1_y','2_y','3_y','4_y','5_y','6_y','7_y','8_y','9_y','10_y','11_y','12_y','13_y','14_y','15_y','16_y','17_y','18_y','19_y','20_y','21_y','22_y','23_y','24_y','25_y','26_y','27_y','28_y','29_y','30_y','31_y','32_y','33_y','34_y','35_y','36_y','37_y','38_y','39_y','40_y','41_y','42_y','43_y','44_y','45_y','46_y','47_y','48_y','49_y','50_y','51_y','52_y','53_y','54_y','55_y','56_y','57_y','58_y','59_y','60_y','61_y','62_y','63_y','64_y','65_y','66_y','67_y','68_y','69_y','70_y','71_y','72_y','73_y','74_y','75_y','76_y','77_y','78_y','79_y','80_y','81_y','82_y','83_y','84_y','85_y','86_y','87_y','88_y','89_y','90_y','91_y','92_y','93_y','94_y','95_y','96_y','97_y','98_y','99_y','100_y','101_y','102_y','103_y','104_y','105_y','106_y','107_y','108_y','109_y','110_y','111_y','112_y','113_y','114_y','115_y','116_y','117_y','118_y','119_y','120_y','121_y','122_y','123_y','124_y','125_y','126_y','127_y','128_y','129_y','130_y','131_y','132_y','133_y','134_y','135_y','136_y','137_y','138_y','139_y','140_y','141_y','142_y','143_y','144_y','145_y','146_y','147_y','148_y','149_y','150_y','151_y','152_y','153_y','154_y','155_y','156_y','157_y','158_y','159_y','160_y','161_y','162_y','163_y','164_y','165_y','166_y','167_y','168_y','169_y','170_y','171_y','172_y','173_y','174_y','175_y','176_y','177_y','178_y','179_y','180_y','181_y','182_y','183_y','184_y','185_y','186_y','187_y','188_y','189_y','190_y','191_y','192_y','193_y','194_y','195_y','196_y','197_y','198_y','199_y','200_y','201_y','202_y','203_y','204_y','205_y','206_y','207_y','208_y','209_y','210_y','211_y','212_y','213_y','214_y','215_y','216_y','217_y','218_y','219_y','220_y','221_y','222_y','223_y','224_y','225_y','226_y','227_y','228_y','229_y','230_y','231_y','232_y','233_y','234_y','235_y','236_y','237_y','238_y','239_y','240_y','241_y','242_y','243_y','244_y','245_y','246_y','247_y','248_y','249_y','250_y','251_y','252_y','253_y','254_y','255_y','256_y','257_y','258_y','259_y','260_y','261_y','262_y','263_y','264_y','265_y','266_y','267_y','268_y','269_y','270_y','271_y','272_y','273_y','274_y','275_y','276_y','277_y','278_y','279_y','280_y','281_y','282_y','283_y','284_y','285_y','286_y','287_y','288_y','289_y','290_y','291_y','292_y','293_y','294_y','295_y','296_y','297_y','298_y','299_y','300_y','301_y','302_y','303_y','304_y','305_y','306_y','307_y','308_y','309_y','310_y','311_y','312_y','313_y','314_y','315_y','316_y','317_y','318_y','319_y','320_y','321_y','322_y','323_y','324_y','325_y','326_y','327_y','328_y','329_y','330_y','331_y','332_y','333_y','334_y','335_y','336_y','337_y','338_y','339_y','340_y','341_y','342_y','343_y','344_y','345_y','346_y','347_y','348_y','349_y','350_y','351_y','352_y','353_y','354_y','355_y','356_y','357_y','358_y','359_y','360_y','361_y','362_y','363_y','364_y','365_y','366_y','367_y','368_y','369_y','370_y','371_y','372_y','373_y','374_y','375_y','376_y','377_y','378_y','379_y','380_y','381_y','382_y','383_y'], chunksize=chunksize, iterator=True, encoding='utf-8', ):\n",
    "        df.index += index_start\n",
    "        j+=1\n",
    "        print('{} rows'.format(j*chunksize))\n",
    "        df.to_sql('data', disk_engine, if_exists='append')\n",
    "        index_start = df.index[-1] + 1"
   ]
  },
  {
   "cell_type": "code",
   "execution_count": 3,
   "metadata": {
    "colab": {},
    "colab_type": "code",
    "id": "4hpD3aBktARn"
   },
   "outputs": [],
   "source": [
    "#http://www.sqlitetutorial.net/sqlite-python/create-tables/\n",
    "def create_connection(db_file):\n",
    "    \"\"\" create a database connection to the SQLite database\n",
    "        specified by db_file\n",
    "    :param db_file: database file\n",
    "    :return: Connection object or None\n",
    "    \"\"\"\n",
    "    try:\n",
    "        conn = sqlite3.connect(db_file)\n",
    "        return conn\n",
    "    except Error as e:\n",
    "        print(e)\n",
    " \n",
    "    return None\n",
    "\n",
    "\n",
    "def checkTableExists(dbcon):\n",
    "    cursr = dbcon.cursor()\n",
    "    str = \"select name from sqlite_master where type='table'\"\n",
    "    table_names = cursr.execute(str)\n",
    "    print(\"Tables in the databse:\")\n",
    "    tables =table_names.fetchall() \n",
    "    print(tables[0][0])\n",
    "    return(len(tables))"
   ]
  },
  {
   "cell_type": "code",
   "execution_count": 4,
   "metadata": {
    "colab": {},
    "colab_type": "code",
    "id": "nR8ZIUnttARs",
    "outputId": "810fb3fb-7da2-4b78-9e29-9edabbf68cf6"
   },
   "outputs": [
    {
     "name": "stdout",
     "output_type": "stream",
     "text": [
      "Tables in the databse:\n",
      "data\n"
     ]
    }
   ],
   "source": [
    "read_db = 'train.db'\n",
    "conn_r = create_connection(read_db)\n",
    "checkTableExists(conn_r)\n",
    "conn_r.close()"
   ]
  },
  {
   "cell_type": "code",
   "execution_count": 5,
   "metadata": {
    "colab": {},
    "colab_type": "code",
    "id": "SZq5gaaztARy"
   },
   "outputs": [],
   "source": [
    "# try to sample data according to the computing power you have\n",
    "if os.path.isfile(read_db):\n",
    "    conn_r = create_connection(read_db)\n",
    "    if conn_r is not None:\n",
    "        # for selecting first 1M rows\n",
    "        # data = pd.read_sql_query(\"\"\"SELECT * FROM data LIMIT 100001;\"\"\", conn_r)\n",
    "        \n",
    "        # for selecting random points\n",
    "        data = pd.read_sql_query(\"SELECT * From data ORDER BY RANDOM() LIMIT 100001;\", conn_r)\n",
    "        conn_r.commit()\n",
    "        conn_r.close()"
   ]
  },
  {
   "cell_type": "code",
   "execution_count": 6,
   "metadata": {},
   "outputs": [
    {
     "data": {
      "text/html": [
       "<div>\n",
       "<style scoped>\n",
       "    .dataframe tbody tr th:only-of-type {\n",
       "        vertical-align: middle;\n",
       "    }\n",
       "\n",
       "    .dataframe tbody tr th {\n",
       "        vertical-align: top;\n",
       "    }\n",
       "\n",
       "    .dataframe thead th {\n",
       "        text-align: right;\n",
       "    }\n",
       "</style>\n",
       "<table border=\"1\" class=\"dataframe\">\n",
       "  <thead>\n",
       "    <tr style=\"text-align: right;\">\n",
       "      <th></th>\n",
       "      <th>index</th>\n",
       "      <th>Unnamed: 0</th>\n",
       "      <th>id</th>\n",
       "      <th>is_duplicate</th>\n",
       "      <th>cwc_min</th>\n",
       "      <th>cwc_max</th>\n",
       "      <th>csc_min</th>\n",
       "      <th>csc_max</th>\n",
       "      <th>ctc_min</th>\n",
       "      <th>ctc_max</th>\n",
       "      <th>...</th>\n",
       "      <th>374_y</th>\n",
       "      <th>375_y</th>\n",
       "      <th>376_y</th>\n",
       "      <th>377_y</th>\n",
       "      <th>378_y</th>\n",
       "      <th>379_y</th>\n",
       "      <th>380_y</th>\n",
       "      <th>381_y</th>\n",
       "      <th>382_y</th>\n",
       "      <th>383_y</th>\n",
       "    </tr>\n",
       "  </thead>\n",
       "  <tbody>\n",
       "    <tr>\n",
       "      <th>0</th>\n",
       "      <td>176823</td>\n",
       "      <td>176821.0</td>\n",
       "      <td>176821</td>\n",
       "      <td>0</td>\n",
       "      <td>0.749981250468738</td>\n",
       "      <td>0.749981250468738</td>\n",
       "      <td>0.999966667777741</td>\n",
       "      <td>0.599988000239995</td>\n",
       "      <td>0.857130612419823</td>\n",
       "      <td>0.599994000059999</td>\n",
       "      <td>...</td>\n",
       "      <td>2.31778582185507</td>\n",
       "      <td>5.6331538669765</td>\n",
       "      <td>4.89348021522164</td>\n",
       "      <td>-5.17775326967239</td>\n",
       "      <td>9.4263166487217</td>\n",
       "      <td>3.13274863362312</td>\n",
       "      <td>-4.3573300242424</td>\n",
       "      <td>1.61109055578709</td>\n",
       "      <td>-0.855521187186241</td>\n",
       "      <td>10.871232509613</td>\n",
       "    </tr>\n",
       "    <tr>\n",
       "      <th>1</th>\n",
       "      <td>479148</td>\n",
       "      <td>299146.0</td>\n",
       "      <td>299146</td>\n",
       "      <td>0</td>\n",
       "      <td>0.39999600004</td>\n",
       "      <td>0.333330555578704</td>\n",
       "      <td>0.285710204139941</td>\n",
       "      <td>0.19999800002</td>\n",
       "      <td>0.315787811643097</td>\n",
       "      <td>0.272726033063486</td>\n",
       "      <td>...</td>\n",
       "      <td>16.3642287962139</td>\n",
       "      <td>53.3244080338627</td>\n",
       "      <td>29.211609069258</td>\n",
       "      <td>-17.5507791563869</td>\n",
       "      <td>35.5258968770504</td>\n",
       "      <td>15.8884926885366</td>\n",
       "      <td>-38.209486505948</td>\n",
       "      <td>4.21350291371346</td>\n",
       "      <td>9.04329504817724</td>\n",
       "      <td>-0.970366135239601</td>\n",
       "    </tr>\n",
       "    <tr>\n",
       "      <th>2</th>\n",
       "      <td>483704</td>\n",
       "      <td>303702.0</td>\n",
       "      <td>303702</td>\n",
       "      <td>0</td>\n",
       "      <td>0.999950002499875</td>\n",
       "      <td>0.66664444518516</td>\n",
       "      <td>0.799984000319994</td>\n",
       "      <td>0.799984000319994</td>\n",
       "      <td>0.857130612419823</td>\n",
       "      <td>0.749990625117186</td>\n",
       "      <td>...</td>\n",
       "      <td>7.57879930734634</td>\n",
       "      <td>3.4353878647089</td>\n",
       "      <td>0.5721076130867</td>\n",
       "      <td>-2.40631306171417</td>\n",
       "      <td>2.04250628873706</td>\n",
       "      <td>2.95989117026329</td>\n",
       "      <td>-7.26367550692521</td>\n",
       "      <td>6.86653059720993</td>\n",
       "      <td>5.38648246973753</td>\n",
       "      <td>3.31079116649926</td>\n",
       "    </tr>\n",
       "    <tr>\n",
       "      <th>3</th>\n",
       "      <td>49161</td>\n",
       "      <td>49159.0</td>\n",
       "      <td>49159</td>\n",
       "      <td>0</td>\n",
       "      <td>0.499987500312492</td>\n",
       "      <td>0.153844970423304</td>\n",
       "      <td>0.399992000159997</td>\n",
       "      <td>0.19999800002</td>\n",
       "      <td>0.444439506227709</td>\n",
       "      <td>0.153845562132453</td>\n",
       "      <td>...</td>\n",
       "      <td>39.4039672315121</td>\n",
       "      <td>41.0954083353281</td>\n",
       "      <td>-3.2861255928874</td>\n",
       "      <td>-18.175609048456</td>\n",
       "      <td>34.2586436569691</td>\n",
       "      <td>-2.49455424770713</td>\n",
       "      <td>-40.016661837697</td>\n",
       "      <td>37.2811732664704</td>\n",
       "      <td>42.6948520373553</td>\n",
       "      <td>5.89821659773588</td>\n",
       "    </tr>\n",
       "    <tr>\n",
       "      <th>4</th>\n",
       "      <td>369844</td>\n",
       "      <td>189842.0</td>\n",
       "      <td>189842</td>\n",
       "      <td>1</td>\n",
       "      <td>0.999980000399992</td>\n",
       "      <td>0.555549382784636</td>\n",
       "      <td>0.66664444518516</td>\n",
       "      <td>0.285710204139941</td>\n",
       "      <td>0.874989062636717</td>\n",
       "      <td>0.411762283751272</td>\n",
       "      <td>...</td>\n",
       "      <td>-10.4165788888931</td>\n",
       "      <td>0.388532944023609</td>\n",
       "      <td>9.99660426750779</td>\n",
       "      <td>0.138266384601593</td>\n",
       "      <td>1.02059417963028</td>\n",
       "      <td>1.12199047207832</td>\n",
       "      <td>-13.5841726064682</td>\n",
       "      <td>-5.08992633223534</td>\n",
       "      <td>7.334357842803</td>\n",
       "      <td>7.29962074756622</td>\n",
       "    </tr>\n",
       "  </tbody>\n",
       "</table>\n",
       "<p>5 rows × 798 columns</p>\n",
       "</div>"
      ],
      "text/plain": [
       "    index  Unnamed: 0      id is_duplicate            cwc_min  \\\n",
       "0  176823    176821.0  176821            0  0.749981250468738   \n",
       "1  479148    299146.0  299146            0      0.39999600004   \n",
       "2  483704    303702.0  303702            0  0.999950002499875   \n",
       "3   49161     49159.0   49159            0  0.499987500312492   \n",
       "4  369844    189842.0  189842            1  0.999980000399992   \n",
       "\n",
       "             cwc_max            csc_min            csc_max            ctc_min  \\\n",
       "0  0.749981250468738  0.999966667777741  0.599988000239995  0.857130612419823   \n",
       "1  0.333330555578704  0.285710204139941      0.19999800002  0.315787811643097   \n",
       "2   0.66664444518516  0.799984000319994  0.799984000319994  0.857130612419823   \n",
       "3  0.153844970423304  0.399992000159997      0.19999800002  0.444439506227709   \n",
       "4  0.555549382784636   0.66664444518516  0.285710204139941  0.874989062636717   \n",
       "\n",
       "             ctc_max  ...              374_y              375_y  \\\n",
       "0  0.599994000059999  ...   2.31778582185507    5.6331538669765   \n",
       "1  0.272726033063486  ...   16.3642287962139   53.3244080338627   \n",
       "2  0.749990625117186  ...   7.57879930734634    3.4353878647089   \n",
       "3  0.153845562132453  ...   39.4039672315121   41.0954083353281   \n",
       "4  0.411762283751272  ...  -10.4165788888931  0.388532944023609   \n",
       "\n",
       "              376_y              377_y             378_y              379_y  \\\n",
       "0  4.89348021522164  -5.17775326967239   9.4263166487217   3.13274863362312   \n",
       "1   29.211609069258  -17.5507791563869  35.5258968770504   15.8884926885366   \n",
       "2   0.5721076130867  -2.40631306171417  2.04250628873706   2.95989117026329   \n",
       "3  -3.2861255928874   -18.175609048456  34.2586436569691  -2.49455424770713   \n",
       "4  9.99660426750779  0.138266384601593  1.02059417963028   1.12199047207832   \n",
       "\n",
       "               380_y              381_y               382_y  \\\n",
       "0   -4.3573300242424   1.61109055578709  -0.855521187186241   \n",
       "1   -38.209486505948   4.21350291371346    9.04329504817724   \n",
       "2  -7.26367550692521   6.86653059720993    5.38648246973753   \n",
       "3   -40.016661837697   37.2811732664704    42.6948520373553   \n",
       "4  -13.5841726064682  -5.08992633223534      7.334357842803   \n",
       "\n",
       "                383_y  \n",
       "0     10.871232509613  \n",
       "1  -0.970366135239601  \n",
       "2    3.31079116649926  \n",
       "3    5.89821659773588  \n",
       "4    7.29962074756622  \n",
       "\n",
       "[5 rows x 798 columns]"
      ]
     },
     "execution_count": 6,
     "metadata": {},
     "output_type": "execute_result"
    }
   ],
   "source": [
    "data.head()"
   ]
  },
  {
   "cell_type": "code",
   "execution_count": 7,
   "metadata": {
    "colab": {},
    "colab_type": "code",
    "id": "ZkeBKktKtAR3"
   },
   "outputs": [],
   "source": [
    "# remove the first row \n",
    "data.drop(data.index[0], inplace=True)\n",
    "y_true = data['is_duplicate']\n",
    "data.drop(['Unnamed: 0', 'id','index','is_duplicate'], axis=1, inplace=True)"
   ]
  },
  {
   "cell_type": "code",
   "execution_count": 8,
   "metadata": {
    "colab": {},
    "colab_type": "code",
    "id": "QKSenpsmtAR9",
    "outputId": "81d890ce-df79-4402-9324-84817dbd5a7d"
   },
   "outputs": [
    {
     "data": {
      "text/html": [
       "<div>\n",
       "<style scoped>\n",
       "    .dataframe tbody tr th:only-of-type {\n",
       "        vertical-align: middle;\n",
       "    }\n",
       "\n",
       "    .dataframe tbody tr th {\n",
       "        vertical-align: top;\n",
       "    }\n",
       "\n",
       "    .dataframe thead th {\n",
       "        text-align: right;\n",
       "    }\n",
       "</style>\n",
       "<table border=\"1\" class=\"dataframe\">\n",
       "  <thead>\n",
       "    <tr style=\"text-align: right;\">\n",
       "      <th></th>\n",
       "      <th>cwc_min</th>\n",
       "      <th>cwc_max</th>\n",
       "      <th>csc_min</th>\n",
       "      <th>csc_max</th>\n",
       "      <th>ctc_min</th>\n",
       "      <th>ctc_max</th>\n",
       "      <th>last_word_eq</th>\n",
       "      <th>first_word_eq</th>\n",
       "      <th>abs_len_diff</th>\n",
       "      <th>mean_len</th>\n",
       "      <th>...</th>\n",
       "      <th>374_y</th>\n",
       "      <th>375_y</th>\n",
       "      <th>376_y</th>\n",
       "      <th>377_y</th>\n",
       "      <th>378_y</th>\n",
       "      <th>379_y</th>\n",
       "      <th>380_y</th>\n",
       "      <th>381_y</th>\n",
       "      <th>382_y</th>\n",
       "      <th>383_y</th>\n",
       "    </tr>\n",
       "  </thead>\n",
       "  <tbody>\n",
       "    <tr>\n",
       "      <th>1</th>\n",
       "      <td>0.39999600004</td>\n",
       "      <td>0.333330555578704</td>\n",
       "      <td>0.285710204139941</td>\n",
       "      <td>0.19999800002</td>\n",
       "      <td>0.315787811643097</td>\n",
       "      <td>0.272726033063486</td>\n",
       "      <td>0.0</td>\n",
       "      <td>1.0</td>\n",
       "      <td>3.0</td>\n",
       "      <td>20.5</td>\n",
       "      <td>...</td>\n",
       "      <td>16.3642287962139</td>\n",
       "      <td>53.3244080338627</td>\n",
       "      <td>29.211609069258</td>\n",
       "      <td>-17.5507791563869</td>\n",
       "      <td>35.5258968770504</td>\n",
       "      <td>15.8884926885366</td>\n",
       "      <td>-38.209486505948</td>\n",
       "      <td>4.21350291371346</td>\n",
       "      <td>9.04329504817724</td>\n",
       "      <td>-0.970366135239601</td>\n",
       "    </tr>\n",
       "    <tr>\n",
       "      <th>2</th>\n",
       "      <td>0.999950002499875</td>\n",
       "      <td>0.66664444518516</td>\n",
       "      <td>0.799984000319994</td>\n",
       "      <td>0.799984000319994</td>\n",
       "      <td>0.857130612419823</td>\n",
       "      <td>0.749990625117186</td>\n",
       "      <td>1.0</td>\n",
       "      <td>1.0</td>\n",
       "      <td>1.0</td>\n",
       "      <td>7.5</td>\n",
       "      <td>...</td>\n",
       "      <td>7.57879930734634</td>\n",
       "      <td>3.4353878647089</td>\n",
       "      <td>0.5721076130867</td>\n",
       "      <td>-2.40631306171417</td>\n",
       "      <td>2.04250628873706</td>\n",
       "      <td>2.95989117026329</td>\n",
       "      <td>-7.26367550692521</td>\n",
       "      <td>6.86653059720993</td>\n",
       "      <td>5.38648246973753</td>\n",
       "      <td>3.31079116649926</td>\n",
       "    </tr>\n",
       "    <tr>\n",
       "      <th>3</th>\n",
       "      <td>0.499987500312492</td>\n",
       "      <td>0.153844970423304</td>\n",
       "      <td>0.399992000159997</td>\n",
       "      <td>0.19999800002</td>\n",
       "      <td>0.444439506227709</td>\n",
       "      <td>0.153845562132453</td>\n",
       "      <td>0.0</td>\n",
       "      <td>0.0</td>\n",
       "      <td>17.0</td>\n",
       "      <td>17.5</td>\n",
       "      <td>...</td>\n",
       "      <td>39.4039672315121</td>\n",
       "      <td>41.0954083353281</td>\n",
       "      <td>-3.2861255928874</td>\n",
       "      <td>-18.175609048456</td>\n",
       "      <td>34.2586436569691</td>\n",
       "      <td>-2.49455424770713</td>\n",
       "      <td>-40.016661837697</td>\n",
       "      <td>37.2811732664704</td>\n",
       "      <td>42.6948520373553</td>\n",
       "      <td>5.89821659773588</td>\n",
       "    </tr>\n",
       "    <tr>\n",
       "      <th>4</th>\n",
       "      <td>0.999980000399992</td>\n",
       "      <td>0.555549382784636</td>\n",
       "      <td>0.66664444518516</td>\n",
       "      <td>0.285710204139941</td>\n",
       "      <td>0.874989062636717</td>\n",
       "      <td>0.411762283751272</td>\n",
       "      <td>0.0</td>\n",
       "      <td>1.0</td>\n",
       "      <td>9.0</td>\n",
       "      <td>12.5</td>\n",
       "      <td>...</td>\n",
       "      <td>-10.4165788888931</td>\n",
       "      <td>0.388532944023609</td>\n",
       "      <td>9.99660426750779</td>\n",
       "      <td>0.138266384601593</td>\n",
       "      <td>1.02059417963028</td>\n",
       "      <td>1.12199047207832</td>\n",
       "      <td>-13.5841726064682</td>\n",
       "      <td>-5.08992633223534</td>\n",
       "      <td>7.334357842803</td>\n",
       "      <td>7.29962074756622</td>\n",
       "    </tr>\n",
       "    <tr>\n",
       "      <th>5</th>\n",
       "      <td>0.999950002499875</td>\n",
       "      <td>0.66664444518516</td>\n",
       "      <td>0.499987500312492</td>\n",
       "      <td>0.399992000159997</td>\n",
       "      <td>0.666655555740738</td>\n",
       "      <td>0.499993750078124</td>\n",
       "      <td>0.0</td>\n",
       "      <td>1.0</td>\n",
       "      <td>2.0</td>\n",
       "      <td>7.0</td>\n",
       "      <td>...</td>\n",
       "      <td>2.30695885419846</td>\n",
       "      <td>6.21115762321278</td>\n",
       "      <td>3.50843986868858</td>\n",
       "      <td>-4.74290472269058</td>\n",
       "      <td>4.17678442597389</td>\n",
       "      <td>6.0351145118475</td>\n",
       "      <td>-9.57282587885857</td>\n",
       "      <td>3.07779650390148</td>\n",
       "      <td>8.49933102726936</td>\n",
       "      <td>0.682479113340378</td>\n",
       "    </tr>\n",
       "  </tbody>\n",
       "</table>\n",
       "<p>5 rows × 794 columns</p>\n",
       "</div>"
      ],
      "text/plain": [
       "             cwc_min            cwc_max            csc_min            csc_max  \\\n",
       "1      0.39999600004  0.333330555578704  0.285710204139941      0.19999800002   \n",
       "2  0.999950002499875   0.66664444518516  0.799984000319994  0.799984000319994   \n",
       "3  0.499987500312492  0.153844970423304  0.399992000159997      0.19999800002   \n",
       "4  0.999980000399992  0.555549382784636   0.66664444518516  0.285710204139941   \n",
       "5  0.999950002499875   0.66664444518516  0.499987500312492  0.399992000159997   \n",
       "\n",
       "             ctc_min            ctc_max last_word_eq first_word_eq  \\\n",
       "1  0.315787811643097  0.272726033063486          0.0           1.0   \n",
       "2  0.857130612419823  0.749990625117186          1.0           1.0   \n",
       "3  0.444439506227709  0.153845562132453          0.0           0.0   \n",
       "4  0.874989062636717  0.411762283751272          0.0           1.0   \n",
       "5  0.666655555740738  0.499993750078124          0.0           1.0   \n",
       "\n",
       "  abs_len_diff mean_len  ...              374_y              375_y  \\\n",
       "1          3.0     20.5  ...   16.3642287962139   53.3244080338627   \n",
       "2          1.0      7.5  ...   7.57879930734634    3.4353878647089   \n",
       "3         17.0     17.5  ...   39.4039672315121   41.0954083353281   \n",
       "4          9.0     12.5  ...  -10.4165788888931  0.388532944023609   \n",
       "5          2.0      7.0  ...   2.30695885419846   6.21115762321278   \n",
       "\n",
       "              376_y              377_y             378_y              379_y  \\\n",
       "1   29.211609069258  -17.5507791563869  35.5258968770504   15.8884926885366   \n",
       "2   0.5721076130867  -2.40631306171417  2.04250628873706   2.95989117026329   \n",
       "3  -3.2861255928874   -18.175609048456  34.2586436569691  -2.49455424770713   \n",
       "4  9.99660426750779  0.138266384601593  1.02059417963028   1.12199047207832   \n",
       "5  3.50843986868858  -4.74290472269058  4.17678442597389    6.0351145118475   \n",
       "\n",
       "               380_y              381_y             382_y               383_y  \n",
       "1   -38.209486505948   4.21350291371346  9.04329504817724  -0.970366135239601  \n",
       "2  -7.26367550692521   6.86653059720993  5.38648246973753    3.31079116649926  \n",
       "3   -40.016661837697   37.2811732664704  42.6948520373553    5.89821659773588  \n",
       "4  -13.5841726064682  -5.08992633223534    7.334357842803    7.29962074756622  \n",
       "5  -9.57282587885857   3.07779650390148  8.49933102726936   0.682479113340378  \n",
       "\n",
       "[5 rows x 794 columns]"
      ]
     },
     "execution_count": 8,
     "metadata": {},
     "output_type": "execute_result"
    }
   ],
   "source": [
    "data.head()"
   ]
  },
  {
   "cell_type": "markdown",
   "metadata": {
    "colab_type": "text",
    "id": "KaWHDzqUtASD"
   },
   "source": [
    "## Converting strings to numerics"
   ]
  },
  {
   "cell_type": "code",
   "execution_count": 9,
   "metadata": {
    "colab": {},
    "colab_type": "code",
    "id": "iLV60gkptASD",
    "outputId": "f297e0f4-52d5-4ab4-8a43-f0ff82f63698"
   },
   "outputs": [
    {
     "name": "stdout",
     "output_type": "stream",
     "text": [
      "Converting datas inside 794 columns to numerics...\n"
     ]
    },
    {
     "data": {
      "application/vnd.jupyter.widget-view+json": {
       "model_id": "7b459cb6b11541a185f6a68e3f2408b7",
       "version_major": 2,
       "version_minor": 0
      },
      "text/plain": [
       "HBox(children=(IntProgress(value=0, max=794), HTML(value='')))"
      ]
     },
     "metadata": {},
     "output_type": "display_data"
    },
    {
     "name": "stdout",
     "output_type": "stream",
     "text": [
      "\n"
     ]
    }
   ],
   "source": [
    "# after we read from sql table each entry was read it as a string\n",
    "# we convert all the features into numaric before we apply any model\n",
    "cols = list(data.columns)\n",
    "print(f\"Converting datas inside {len(list(data.columns))} columns to numerics...\")\n",
    "for i in tqdm(cols):\n",
    "    data[i] = data[i].apply(pd.to_numeric)"
   ]
  },
  {
   "cell_type": "code",
   "execution_count": 10,
   "metadata": {
    "colab": {},
    "colab_type": "code",
    "id": "_LpfQwc9tASJ"
   },
   "outputs": [],
   "source": [
    "# https://stackoverflow.com/questions/7368789/convert-all-strings-in-a-list-to-int\n",
    "y_true = list(map(int, y_true))"
   ]
  },
  {
   "cell_type": "markdown",
   "metadata": {
    "colab_type": "text",
    "id": "CuMTqWGutASO"
   },
   "source": [
    "## Random train test split( 70:30)"
   ]
  },
  {
   "cell_type": "code",
   "execution_count": 11,
   "metadata": {
    "colab": {},
    "colab_type": "code",
    "id": "3Rat2obGtASP"
   },
   "outputs": [],
   "source": [
    "X_train,X_test, y_train, y_test = train_test_split(data, y_true, stratify=y_true, test_size=0.3)"
   ]
  },
  {
   "cell_type": "code",
   "execution_count": 12,
   "metadata": {
    "colab": {},
    "colab_type": "code",
    "id": "1Iw9zCHqtASS",
    "outputId": "910b684b-0876-4dd8-e0d9-457846236833"
   },
   "outputs": [
    {
     "name": "stdout",
     "output_type": "stream",
     "text": [
      "Number of data points in train data : (70000, 794)\n",
      "Number of data points in test data : (30000, 794)\n"
     ]
    }
   ],
   "source": [
    "print(\"Number of data points in train data :\",X_train.shape)\n",
    "print(\"Number of data points in test data :\",X_test.shape)"
   ]
  },
  {
   "cell_type": "code",
   "execution_count": 13,
   "metadata": {
    "colab": {},
    "colab_type": "code",
    "id": "0oDV15LJtASY",
    "outputId": "70a1e4eb-3f31-4f1e-a53b-ad972978505d"
   },
   "outputs": [
    {
     "name": "stdout",
     "output_type": "stream",
     "text": [
      "---------- Distribution of output variable in train data ----------\n",
      "Class 0:  0.6313571428571428 Class 1:  0.36864285714285716\n",
      "---------- Distribution of output variable in test data ----------\n",
      "Class 0:  0.3686333333333333 Class 1:  0.3686333333333333\n"
     ]
    }
   ],
   "source": [
    "print(\"-\"*10, \"Distribution of output variable in train data\", \"-\"*10)\n",
    "train_distr = Counter(y_train)  #will return a dictionaly of howmany 1 and zero. eg {0: 34, 1:78}\n",
    "train_len = len(y_train)\n",
    "print(\"Class 0: \",int(train_distr[0])/train_len,\"Class 1: \", int(train_distr[1])/train_len)\n",
    "print(\"-\"*10, \"Distribution of output variable in test data\", \"-\"*10)\n",
    "test_distr = Counter(y_test)\n",
    "test_len = len(y_test)\n",
    "print(\"Class 0: \",int(test_distr[1])/test_len, \"Class 1: \",int(test_distr[1])/test_len)"
   ]
  },
  {
   "cell_type": "code",
   "execution_count": 14,
   "metadata": {
    "colab": {},
    "colab_type": "code",
    "id": "XfxcPT6jtASg"
   },
   "outputs": [],
   "source": [
    "# This function plots the confusion matrices given y_i, y_i_hat.\n",
    "def plot_confusion_matrix(test_y, predict_y):\n",
    "    C = confusion_matrix(test_y, predict_y)\n",
    "    # C = 9,9 matrix, each cell (i,j) represents number of points of class i are predicted class j\n",
    "    #[TN FP]\n",
    "    #[FN TP]   \n",
    "    \n",
    "    A =(((C.T)/(C.sum(axis=1))).T)\n",
    "    #precision = true positive / predicted positive\n",
    "    #divid each element of the confusion matrix with the sum of elements in that column\n",
    "    \n",
    "    # C = [[1, 2],\n",
    "    #     [3, 4]]\n",
    "    # C.T = [[1, 3],\n",
    "    #        [2, 4]]\n",
    "    # C.sum(axis = 1)  axis=0 corresonds to columns and axis=1 corresponds to rows in two diamensional array\n",
    "    # C.sum(axix =1) = [[3, 7]]\n",
    "    # ((C.T)/(C.sum(axis=1))) = [[1/3, 3/7]\n",
    "    #                           [2/3, 4/7]]\n",
    "\n",
    "    # ((C.T)/(C.sum(axis=1))).T = [[1/3, 2/3]\n",
    "    #                           [3/7, 4/7]]\n",
    "    # sum of row elements = 1\n",
    "    \n",
    "    B =(C/C.sum(axis=0))\n",
    "    #recall = true positive/ actual positive\n",
    "    #divid each element of the confusion matrix with the sum of elements in that row\n",
    "    # C = [[1, 2],\n",
    "    #     [3, 4]]\n",
    "    # C.sum(axis = 0)  axis=0 corresonds to columns and axis=1 corresponds to rows in two diamensional array\n",
    "    # C.sum(axix =0) = [[4, 6]]\n",
    "    # (C/C.sum(axis=0)) = [[1/4, 2/6],\n",
    "    #                      [3/4, 4/6]] \n",
    "    plt.figure(figsize=(20,4))\n",
    "    \n",
    "    labels = [1,2]\n",
    "    # representing A in heatmap format\n",
    "    cmap=sns.light_palette(\"blue\")\n",
    "    plt.subplot(1, 3, 1)\n",
    "    sns.heatmap(C, annot=True, cmap=cmap, fmt=\".3f\", xticklabels=labels, yticklabels=labels)\n",
    "    plt.xlabel('Predicted Class')\n",
    "    plt.ylabel('Original Class')\n",
    "    plt.title(\"Confusion matrix\")\n",
    "    \n",
    "    plt.subplot(1, 3, 2)\n",
    "    sns.heatmap(B, annot=True, cmap=cmap, fmt=\".3f\", xticklabels=labels, yticklabels=labels)\n",
    "    plt.xlabel('Predicted Class')\n",
    "    plt.ylabel('Original Class')\n",
    "    plt.title(\"Precision matrix\")\n",
    "    \n",
    "    plt.subplot(1, 3, 3)\n",
    "    # representing B in heatmap format\n",
    "    sns.heatmap(A, annot=True, cmap=cmap, fmt=\".3f\", xticklabels=labels, yticklabels=labels)\n",
    "    plt.xlabel('Predicted Class')\n",
    "    plt.ylabel('Original Class')\n",
    "    plt.title(\"Recall matrix\")\n",
    "    \n",
    "    plt.show()"
   ]
  },
  {
   "cell_type": "markdown",
   "metadata": {
    "colab_type": "text",
    "id": "UStQJ5F_tASk"
   },
   "source": [
    "# TFIDF W2V"
   ]
  },
  {
   "cell_type": "markdown",
   "metadata": {},
   "source": [
    "## Random Model- A Worst Case"
   ]
  },
  {
   "cell_type": "code",
   "execution_count": 15,
   "metadata": {
    "colab": {},
    "colab_type": "code",
    "id": "qwMDqcU7tASl",
    "outputId": "c1e90d53-25ec-445b-e33a-299538520e32"
   },
   "outputs": [
    {
     "name": "stdout",
     "output_type": "stream",
     "text": [
      "Log loss on Test Data using Random Model 0.8757882627312501\n"
     ]
    },
    {
     "data": {
      "image/png": "[encoded data removed]",
      "text/plain": [
       "<Figure size 1440x288 with 6 Axes>"
      ]
     },
     "metadata": {
      "needs_background": "light"
     },
     "output_type": "display_data"
    }
   ],
   "source": [
    "# we need to generate 9 numbers and the sum of numbers should be 1\n",
    "# one solution is to genarate 9 numbers and divide each of the numbers by their sum\n",
    "# ref: https://stackoverflow.com/a/18662466/4084039\n",
    "# we create a output array that has exactly same size as the CV data\n",
    "predicted_y = np.zeros((test_len,2))\n",
    "for i in range(test_len):\n",
    "    rand_probs = np.random.rand(1,2)\n",
    "    predicted_y[i] = ((rand_probs/sum(sum(rand_probs)))[0])\n",
    "print(\"Log loss on Test Data using Random Model\",log_loss(y_test, predicted_y, eps=1e-15))\n",
    "\n",
    "predicted_y =np.argmax(predicted_y, axis=1)\n",
    "plot_confusion_matrix(y_test, predicted_y)"
   ]
  },
  {
   "cell_type": "markdown",
   "metadata": {
    "colab_type": "text",
    "id": "YgY29g_qtASq"
   },
   "source": [
    "## Logistics Regression with Hyperparameter Tuning"
   ]
  },
  {
   "cell_type": "code",
   "execution_count": 16,
   "metadata": {
    "colab": {},
    "colab_type": "code",
    "id": "Wb2tOE3GtASr",
    "outputId": "d7e4fc88-7d4e-4313-cda7-462a2409292e"
   },
   "outputs": [
    {
     "name": "stdout",
     "output_type": "stream",
     "text": [
      "For values of alpha =  1e-05 The log loss is: 0.6582243102020666\n",
      "For values of alpha =  0.0001 The log loss is: 0.5239731117023871\n",
      "For values of alpha =  0.001 The log loss is: 0.531030933770585\n",
      "For values of alpha =  0.01 The log loss is: 0.5238064340340219\n",
      "For values of alpha =  0.1 The log loss is: 0.5206027673404094\n",
      "For values of alpha =  1 The log loss is: 0.5145708244250301\n",
      "For values of alpha =  10 The log loss is: 0.5204401069177507\n"
     ]
    },
    {
     "data": {
      "image/png": "[encoded data removed]",
      "text/plain": [
       "<Figure size 432x288 with 1 Axes>"
      ]
     },
     "metadata": {
      "needs_background": "light"
     },
     "output_type": "display_data"
    },
    {
     "name": "stdout",
     "output_type": "stream",
     "text": [
      "For values of best alpha =  1 The train log loss is: 0.5101453297915229\n",
      "For values of best alpha =  1 The test log loss is: 0.5145708244250301\n"
     ]
    }
   ],
   "source": [
    "alpha = [10 ** x for x in range(-5, 2)] # hyperparam for SGD classifier.\n",
    "\n",
    "# read more about SGDClassifier() at http://scikit-learn.org/stable/modules/generated/sklearn.linear_model.SGDClassifier.html\n",
    "# ------------------------------\n",
    "# default parameters\n",
    "# SGDClassifier(loss=’hinge’, penalty=’l2’, alpha=0.0001, l1_ratio=0.15, fit_intercept=True, max_iter=None, tol=None, \n",
    "# shuffle=True, verbose=0, epsilon=0.1, n_jobs=1, random_state=None, learning_rate=’optimal’, eta0=0.0, power_t=0.5, \n",
    "# class_weight=None, warm_start=False, average=False, n_iter=None)\n",
    "\n",
    "# some of methods\n",
    "# fit(X, y[, coef_init, intercept_init, …])\tFit linear model with Stochastic Gradient Descent.\n",
    "# predict(X)\tPredict class labels for samples in X.\n",
    "\n",
    "#-------------------------------\n",
    "# video link: \n",
    "#------------------------------\n",
    "\n",
    "\n",
    "log_error_array=[]\n",
    "for i in alpha:\n",
    "    clf = SGDClassifier(alpha=i, penalty='l2', loss='log', random_state=42)\n",
    "    clf.fit(X_train, y_train)\n",
    "    sig_clf = CalibratedClassifierCV(clf, method=\"sigmoid\")\n",
    "    sig_clf.fit(X_train, y_train)\n",
    "    predict_y = sig_clf.predict_proba(X_test)\n",
    "    log_error_array.append(log_loss(y_test, predict_y, labels=clf.classes_, eps=1e-15))\n",
    "    print('For values of alpha = ', i, \"The log loss is:\",log_loss(y_test, predict_y, labels=clf.classes_, eps=1e-15))\n",
    "\n",
    "fig, ax = plt.subplots()\n",
    "ax.plot(alpha, log_error_array,c='g')\n",
    "for i, txt in enumerate(np.round(log_error_array,3)):\n",
    "    ax.annotate((alpha[i],np.round(txt,3)), (alpha[i],log_error_array[i]))\n",
    "plt.grid()\n",
    "plt.title(\"Cross Validation Error for each alpha\")\n",
    "plt.xlabel(\"Alpha i's\")\n",
    "plt.ylabel(\"Error measure\")\n",
    "plt.show()\n",
    "\n",
    "\n",
    "best_alpha = np.argmin(log_error_array)\n",
    "clf = SGDClassifier(alpha=alpha[best_alpha], penalty='l2', loss='log', random_state=42)\n",
    "clf.fit(X_train, y_train)\n",
    "sig_clf = CalibratedClassifierCV(clf, method=\"sigmoid\")\n",
    "sig_clf.fit(X_train, y_train)\n",
    "\n",
    "predict_y = sig_clf.predict_proba(X_train)\n",
    "print('For values of best alpha = ', alpha[best_alpha], \"The train log loss is:\",log_loss(y_train, predict_y, labels=clf.classes_, eps=1e-15))\n",
    "predict_y = sig_clf.predict_proba(X_test)\n",
    "print('For values of best alpha = ', alpha[best_alpha], \"The test log loss is:\",log_loss(y_test, predict_y, labels=clf.classes_, eps=1e-15))\n"
   ]
  },
  {
   "cell_type": "code",
   "execution_count": 17,
   "metadata": {},
   "outputs": [
    {
     "name": "stdout",
     "output_type": "stream",
     "text": [
      "Total number of data points : 30000\n"
     ]
    },
    {
     "data": {
      "image/png": "[encoded data removed]",
      "text/plain": [
       "<Figure size 1440x288 with 6 Axes>"
      ]
     },
     "metadata": {
      "needs_background": "light"
     },
     "output_type": "display_data"
    }
   ],
   "source": [
    "predicted_y =np.argmax(predict_y,axis=1)\n",
    "print(\"Total number of data points :\", len(predicted_y))\n",
    "plot_confusion_matrix(y_test, predicted_y)"
   ]
  },
  {
   "cell_type": "markdown",
   "metadata": {
    "colab_type": "text",
    "id": "ouQSEnr3tASy"
   },
   "source": [
    "## Linear SVM with Hyperparameter Tuning"
   ]
  },
  {
   "cell_type": "code",
   "execution_count": 18,
   "metadata": {
    "colab": {},
    "colab_type": "code",
    "id": "AOFfZ5PLtAS0",
    "outputId": "d31eb598-e275-48cb-c49b-98e9eb76d8ba"
   },
   "outputs": [
    {
     "name": "stdout",
     "output_type": "stream",
     "text": [
      "For values of alpha =  1e-05 The log loss is: 0.6582243102020666\n",
      "For values of alpha =  0.0001 The log loss is: 0.4885874377203666\n",
      "For values of alpha =  0.001 The log loss is: 0.5206700965267733\n",
      "For values of alpha =  0.01 The log loss is: 0.562698888770099\n",
      "For values of alpha =  0.1 The log loss is: 0.5849170654028049\n",
      "For values of alpha =  1 The log loss is: 0.633347767594272\n",
      "For values of alpha =  10 The log loss is: 0.6472063567834271\n"
     ]
    },
    {
     "data": {
      "image/png": "[encoded data removed]",
      "text/plain": [
       "<Figure size 432x288 with 1 Axes>"
      ]
     },
     "metadata": {
      "needs_background": "light"
     },
     "output_type": "display_data"
    },
    {
     "name": "stdout",
     "output_type": "stream",
     "text": [
      "For values of best alpha =  0.0001 The train log loss is: 0.4815323702975848\n",
      "For values of best alpha =  0.0001 The test log loss is: 0.4885874377203666\n",
      "Total number of data points : 30000\n"
     ]
    },
    {
     "data": {
      "image/png": "[encoded data removed]",
      "text/plain": [
       "<Figure size 1440x288 with 6 Axes>"
      ]
     },
     "metadata": {
      "needs_background": "light"
     },
     "output_type": "display_data"
    }
   ],
   "source": [
    "alpha = [10 ** x for x in range(-5, 2)] # hyperparam for SGD classifier.\n",
    "\n",
    "# read more about SGDClassifier() at http://scikit-learn.org/stable/modules/generated/sklearn.linear_model.SGDClassifier.html\n",
    "# ------------------------------\n",
    "# default parameters\n",
    "# SGDClassifier(loss=’hinge’, penalty=’l2’, alpha=0.0001, l1_ratio=0.15, fit_intercept=True, max_iter=None, tol=None, \n",
    "# shuffle=True, verbose=0, epsilon=0.1, n_jobs=1, random_state=None, learning_rate=’optimal’, eta0=0.0, power_t=0.5, \n",
    "# class_weight=None, warm_start=False, average=False, n_iter=None)\n",
    "\n",
    "# some of methods\n",
    "# fit(X, y[, coef_init, intercept_init, …])\tFit linear model with Stochastic Gradient Descent.\n",
    "# predict(X)\tPredict class labels for samples in X.\n",
    "\n",
    "#-------------------------------\n",
    "# video link: \n",
    "#------------------------------\n",
    "\n",
    "\n",
    "log_error_array=[]\n",
    "for i in alpha:\n",
    "    clf = SGDClassifier(alpha=i, penalty='l1', loss='hinge', random_state=42)\n",
    "    clf.fit(X_train, y_train)\n",
    "    sig_clf = CalibratedClassifierCV(clf, method=\"sigmoid\")\n",
    "    sig_clf.fit(X_train, y_train)\n",
    "    predict_y = sig_clf.predict_proba(X_test)\n",
    "    log_error_array.append(log_loss(y_test, predict_y, labels=clf.classes_, eps=1e-15))\n",
    "    print('For values of alpha = ', i, \"The log loss is:\",log_loss(y_test, predict_y, labels=clf.classes_, eps=1e-15))\n",
    "\n",
    "fig, ax = plt.subplots()\n",
    "ax.plot(alpha, log_error_array,c='g')\n",
    "for i, txt in enumerate(np.round(log_error_array,3)):\n",
    "    ax.annotate((alpha[i],np.round(txt,3)), (alpha[i],log_error_array[i]))\n",
    "plt.grid()\n",
    "plt.title(\"Cross Validation Error for each alpha\")\n",
    "plt.xlabel(\"Alpha i's\")\n",
    "plt.ylabel(\"Error measure\")\n",
    "plt.show()\n",
    "\n",
    "\n",
    "best_alpha = np.argmin(log_error_array)\n",
    "clf = SGDClassifier(alpha=alpha[best_alpha], penalty='l1', loss='hinge', random_state=42)\n",
    "clf.fit(X_train, y_train)\n",
    "sig_clf = CalibratedClassifierCV(clf, method=\"sigmoid\")\n",
    "sig_clf.fit(X_train, y_train)\n",
    "\n",
    "predict_y = sig_clf.predict_proba(X_train)\n",
    "print('For values of best alpha = ', alpha[best_alpha], \"The train log loss is:\",log_loss(y_train, predict_y, labels=clf.classes_, eps=1e-15))\n",
    "predict_y = sig_clf.predict_proba(X_test)\n",
    "print('For values of best alpha = ', alpha[best_alpha], \"The test log loss is:\",log_loss(y_test, predict_y, labels=clf.classes_, eps=1e-15))\n",
    "predicted_y =np.argmax(predict_y,axis=1)\n",
    "print(\"Total number of data points :\", len(predicted_y))\n",
    "plot_confusion_matrix(y_test, predicted_y)"
   ]
  },
  {
   "cell_type": "markdown",
   "metadata": {
    "colab_type": "text",
    "id": "ZhTJgclztAS6"
   },
   "source": [
    "## XG Boost"
   ]
  },
  {
   "cell_type": "code",
   "execution_count": 19,
   "metadata": {
    "colab": {},
    "colab_type": "code",
    "id": "9U367-xetAS7",
    "outputId": "167e8588-2ac4-4c6d-ac22-f56a2fce5657"
   },
   "outputs": [
    {
     "name": "stdout",
     "output_type": "stream",
     "text": [
      "[0]\ttrain-logloss:0.684702\tvalid-logloss:0.684774\n",
      "Multiple eval metrics have been passed: 'valid-logloss' will be used for early stopping.\n",
      "\n",
      "Will train until valid-logloss hasn't improved in 20 rounds.\n",
      "[10]\ttrain-logloss:0.61461\tvalid-logloss:0.615057\n",
      "[20]\ttrain-logloss:0.56415\tvalid-logloss:0.564908\n",
      "[30]\ttrain-logloss:0.526479\tvalid-logloss:0.527611\n",
      "[40]\ttrain-logloss:0.497495\tvalid-logloss:0.498991\n",
      "[50]\ttrain-logloss:0.474632\tvalid-logloss:0.476433\n",
      "[60]\ttrain-logloss:0.456517\tvalid-logloss:0.458502\n",
      "[70]\ttrain-logloss:0.44184\tvalid-logloss:0.443982\n",
      "[80]\ttrain-logloss:0.430138\tvalid-logloss:0.432491\n",
      "[90]\ttrain-logloss:0.420364\tvalid-logloss:0.422893\n",
      "[100]\ttrain-logloss:0.412255\tvalid-logloss:0.414887\n",
      "[110]\ttrain-logloss:0.405624\tvalid-logloss:0.408426\n",
      "[120]\ttrain-logloss:0.399741\tvalid-logloss:0.402732\n",
      "[130]\ttrain-logloss:0.394943\tvalid-logloss:0.398146\n",
      "[140]\ttrain-logloss:0.390933\tvalid-logloss:0.39442\n",
      "[150]\ttrain-logloss:0.387193\tvalid-logloss:0.390891\n",
      "[160]\ttrain-logloss:0.383957\tvalid-logloss:0.387947\n",
      "[170]\ttrain-logloss:0.381141\tvalid-logloss:0.385409\n",
      "[180]\ttrain-logloss:0.378606\tvalid-logloss:0.383082\n",
      "[190]\ttrain-logloss:0.376186\tvalid-logloss:0.381026\n",
      "[200]\ttrain-logloss:0.373989\tvalid-logloss:0.379127\n",
      "[210]\ttrain-logloss:0.371899\tvalid-logloss:0.377363\n",
      "[220]\ttrain-logloss:0.369783\tvalid-logloss:0.375594\n",
      "[230]\ttrain-logloss:0.367874\tvalid-logloss:0.37398\n",
      "[240]\ttrain-logloss:0.366206\tvalid-logloss:0.372621\n",
      "[250]\ttrain-logloss:0.36445\tvalid-logloss:0.37122\n",
      "[260]\ttrain-logloss:0.362802\tvalid-logloss:0.369839\n",
      "[270]\ttrain-logloss:0.361309\tvalid-logloss:0.368695\n",
      "[280]\ttrain-logloss:0.359849\tvalid-logloss:0.36756\n",
      "[290]\ttrain-logloss:0.358444\tvalid-logloss:0.366541\n",
      "[300]\ttrain-logloss:0.357029\tvalid-logloss:0.365522\n",
      "[310]\ttrain-logloss:0.355775\tvalid-logloss:0.364589\n",
      "[320]\ttrain-logloss:0.35456\tvalid-logloss:0.363718\n",
      "[330]\ttrain-logloss:0.353343\tvalid-logloss:0.362912\n",
      "[340]\ttrain-logloss:0.352059\tvalid-logloss:0.361985\n",
      "[350]\ttrain-logloss:0.351003\tvalid-logloss:0.361202\n",
      "[360]\ttrain-logloss:0.350049\tvalid-logloss:0.36056\n",
      "[370]\ttrain-logloss:0.34899\tvalid-logloss:0.359856\n",
      "[380]\ttrain-logloss:0.347852\tvalid-logloss:0.359049\n",
      "[390]\ttrain-logloss:0.346855\tvalid-logloss:0.358359\n",
      "[399]\ttrain-logloss:0.345942\tvalid-logloss:0.357785\n",
      "The test log loss is: 0.3577844689081753\n"
     ]
    }
   ],
   "source": [
    "import xgboost as xgb\n",
    "params = {}\n",
    "params['objective'] = 'binary:logistic'\n",
    "params['eval_metric'] = 'logloss'\n",
    "params['eta'] = 0.02\n",
    "params['max_depth'] = 4\n",
    "\n",
    "d_train = xgb.DMatrix(X_train, label=y_train)\n",
    "d_test = xgb.DMatrix(X_test, label=y_test)\n",
    "\n",
    "watchlist = [(d_train, 'train'), (d_test, 'valid')]\n",
    "\n",
    "bst = xgb.train(params, d_train, 400, watchlist, early_stopping_rounds=20, verbose_eval=10)\n",
    "\n",
    "xgdmat = xgb.DMatrix(X_train,y_train)\n",
    "predict_y = bst.predict(d_test)\n",
    "print(\"The test log loss is:\",log_loss(y_test, predict_y, labels=clf.classes_, eps=1e-15))"
   ]
  },
  {
   "cell_type": "code",
   "execution_count": 20,
   "metadata": {
    "colab": {},
    "colab_type": "code",
    "id": "6U5b17AatAS_",
    "outputId": "ca83b680-023b-4bc5-f499-8d8d85c2ff5e"
   },
   "outputs": [
    {
     "name": "stdout",
     "output_type": "stream",
     "text": [
      "Total number of data points : 30000\n"
     ]
    },
    {
     "data": {
      "image/png": "[encoded data removed]",
      "text/plain": [
       "<Figure size 1440x288 with 6 Axes>"
      ]
     },
     "metadata": {
      "needs_background": "light"
     },
     "output_type": "display_data"
    }
   ],
   "source": [
    "predicted_y =np.array(predict_y>0.5,dtype=int)\n",
    "print(\"Total number of data points :\", len(predicted_y))\n",
    "plot_confusion_matrix(y_test, predicted_y)"
   ]
  },
  {
   "cell_type": "markdown",
   "metadata": {},
   "source": [
    "## XG Boost with Hyperparameter Tuning"
   ]
  },
  {
   "cell_type": "code",
   "execution_count": null,
   "metadata": {},
   "outputs": [
    {
     "name": "stdout",
     "output_type": "stream",
     "text": [
      "Fitting 3 folds for each of 10 candidates, totalling 30 fits\n"
     ]
    },
    {
     "name": "stderr",
     "output_type": "stream",
     "text": [
      "[Parallel(n_jobs=-1)]: Using backend LokyBackend with 16 concurrent workers.\n",
      "[Parallel(n_jobs=-1)]: Done   3 out of  30 | elapsed:  1.6min remaining: 14.8min\n",
      "[Parallel(n_jobs=-1)]: Done   7 out of  30 | elapsed:  3.4min remaining: 11.0min\n",
      "[Parallel(n_jobs=-1)]: Done  11 out of  30 | elapsed:  4.9min remaining:  8.5min\n",
      "[Parallel(n_jobs=-1)]: Done  15 out of  30 | elapsed:  6.4min remaining:  6.4min\n",
      "[Parallel(n_jobs=-1)]: Done  19 out of  30 | elapsed:  8.1min remaining:  4.7min\n",
      "[Parallel(n_jobs=-1)]: Done  23 out of  30 | elapsed:  8.9min remaining:  2.7min\n",
      "[Parallel(n_jobs=-1)]: Done  27 out of  30 | elapsed: 11.0min remaining:  1.2min\n"
     ]
    }
   ],
   "source": [
    "import xgboost as xgb\n",
    "from sklearn.model_selection import RandomizedSearchCV\n",
    "\n",
    "model = xgb.XGBClassifier(objective='binary:logistic', eval_metric='logloss',n_jobs=-1)\n",
    "params = {\n",
    "        'max_depth': [i for i in range(1,8,2)],\n",
    "        'n_estimators' : [i*10 for i in range(1, 10)],\n",
    "         'gamma': [0, 0.25, 0.5, 1.0],'learning_rate': [0.001, 0.01, 0.1, 0.2, 0,3]         \n",
    "        }\n",
    "\n",
    "xgb_search = RandomizedSearchCV(model, param_distributions=params, scoring = 'neg_log_loss', n_jobs = -1, cv=3, verbose=10)\n",
    "\n",
    "xgb_search.fit(X_train, y_train)\n",
    "\n",
    "print(\"Best score : \",xgb_search.best_score_)\n",
    "print(\"Best Parameters\",xgb_search.best_params_)"
   ]
  },
  {
   "cell_type": "code",
   "execution_count": 38,
   "metadata": {},
   "outputs": [
    {
     "name": "stdout",
     "output_type": "stream",
     "text": [
      "Best score(Logloss) :  0.3550591030395856\n",
      "Best Parameters {'n_estimators': 40, 'max_depth': 7, 'learning_rate': 0.1, 'gamma': 1.0}\n"
     ]
    }
   ],
   "source": [
    "print(\"Best score(Logloss) : \",-(xgb_search.best_score_))\n",
    "print(\"Best Parameters\",xgb_search.best_params_)"
   ]
  },
  {
   "cell_type": "code",
   "execution_count": 39,
   "metadata": {},
   "outputs": [
    {
     "name": "stdout",
     "output_type": "stream",
     "text": [
      "Logloss of train dataset = 0.3147937625931934\n",
      "Logloss of test dataset = 0.3572127318255224\n"
     ]
    },
    {
     "data": {
      "image/png": "[encoded data removed]",
      "text/plain": [
       "<Figure size 1440x288 with 6 Axes>"
      ]
     },
     "metadata": {
      "needs_background": "light"
     },
     "output_type": "display_data"
    }
   ],
   "source": [
    "model1  = xgb.XGBClassifier(max_depth=7, learning_rate=0.1, n_estimators=40, gamma=1.0, objective='binary:logistic',n_jobs=-1,random_state=21)\n",
    "model1.fit(X_train, y_train)\n",
    "model1_cal = CalibratedClassifierCV(model1, method='sigmoid')\n",
    "model1_cal.fit(X_train,y_train)\n",
    "y_pred_proba = model1_cal.predict_proba(X_test)\n",
    "y_train_proba=  model1_cal.predict_proba(X_train)\n",
    "print(f\"Logloss of train dataset = {log_loss(y_train, y_train_proba)}\")\n",
    "print(f\"Logloss of test dataset = {log_loss(y_test, y_pred_proba)}\")\n",
    "y_pred = np.argmax(y_pred_proba,axis=1)\n",
    "plot_confusion_matrix(y_test,y_pred)"
   ]
  },
  {
   "cell_type": "markdown",
   "metadata": {},
   "source": [
    "# TFIDF"
   ]
  },
  {
   "cell_type": "code",
   "execution_count": 40,
   "metadata": {},
   "outputs": [],
   "source": [
    "if os.path.isfile('nlp_features_train.csv'):\n",
    "    dfnlp = pd.read_csv(\"nlp_features_train.csv\",encoding='latin-1')\n",
    "else:\n",
    "    print(\"download nlp_features_train.csv from drive or run previous notebook\")\n",
    "\n",
    "if os.path.isfile('df_fe_without_preprocessing_train.csv'):\n",
    "    dfppro = pd.read_csv(\"df_fe_without_preprocessing_train.csv\",encoding='latin-1')\n",
    "else:\n",
    "    print(\"download df_fe_without_preprocessing_train.csv from drive or run previous notebook\")"
   ]
  },
  {
   "cell_type": "code",
   "execution_count": 44,
   "metadata": {},
   "outputs": [],
   "source": [
    "df = pd.read_csv(\"train.csv\")\n",
    "df['question1'] = df['question1'].apply(lambda x: str(x))\n",
    "df['question2'] = df['question2'].apply(lambda x: str(x))"
   ]
  },
  {
   "cell_type": "code",
   "execution_count": 75,
   "metadata": {},
   "outputs": [],
   "source": [
    "from sklearn.feature_extraction.text import TfidfVectorizer\n",
    "from sklearn.feature_extraction.text import CountVectorizer\n",
    "import scipy\n",
    "\n",
    "#Vectorise words using TFIDF\n",
    "tfidf = TfidfVectorizer(lowercase=False, max_features=20000)\n",
    "tfidf_q1 = tfidf.fit_transform(df[\"question1\"])\n",
    "tfidf_q2 = tfidf.fit_transform(df[\"question2\"])\n",
    "#Merge the vertorised columns of question 1 and question 2 into a single column.\n",
    "tfidf_vec = hstack((tfidf_q1, tfidf_q2))\n",
    "\n",
    "#Drop repeating and unwanted features from the dataframe.\n",
    "df1 = dfnlp.drop(['qid1','qid2','question1','question2'],axis=1)\n",
    "df2 = dfppro.drop(['qid1','qid2','question1','question2','is_duplicate'],axis=1)\n",
    "#Merge the two dataframe df1 and df2 as a single df.\n",
    "df1 = df1.merge(df2, on='id',how='left')\n",
    "\n",
    "df_x = df1.drop(columns='is_duplicate', axis=1)\n",
    "#Convert the df_x dataframe to sparse matrix\n",
    "df1_sparse = scipy.sparse.csr_matrix(df_x)\n",
    "x = hstack((df1_sparse, tfidf_vec))\n",
    "y = df1[\"is_duplicate\"]"
   ]
  },
  {
   "cell_type": "markdown",
   "metadata": {},
   "source": [
    "## Train test split"
   ]
  },
  {
   "cell_type": "code",
   "execution_count": 144,
   "metadata": {},
   "outputs": [],
   "source": [
    "X_train,X_test, y_train, y_test = train_test_split(x, y, test_size=0.3)"
   ]
  },
  {
   "cell_type": "code",
   "execution_count": 145,
   "metadata": {},
   "outputs": [
    {
     "name": "stdout",
     "output_type": "stream",
     "text": [
      "Shape of X Train: (283003, 40027)\n",
      "Shape of X Test: (121287, 40027)\n",
      "Shape of Y Train: (283003,)\n",
      "Shape of Y Test: (121287,)\n"
     ]
    }
   ],
   "source": [
    "print(f\"Shape of X Train: {X_train.shape}\")\n",
    "print(f\"Shape of X Test: {X_test.shape}\")\n",
    "print(f\"Shape of Y Train: {y_train.shape}\")\n",
    "print(f\"Shape of Y Test: {y_test.shape}\")"
   ]
  },
  {
   "cell_type": "markdown",
   "metadata": {},
   "source": [
    "## Random model - A worst Case"
   ]
  },
  {
   "cell_type": "code",
   "execution_count": 146,
   "metadata": {},
   "outputs": [
    {
     "name": "stdout",
     "output_type": "stream",
     "text": [
      "---------- Distribution of output variable in train data ----------\n",
      "Class 0:  0.6295763649148596 Class 1:  0.3704236350851404\n",
      "---------- Distribution of output variable in test data ----------\n",
      "Class 0:  0.3663376948889823 Class 1:  0.3663376948889823\n"
     ]
    }
   ],
   "source": [
    "print(\"-\"*10, \"Distribution of output variable in train data\", \"-\"*10)\n",
    "train_distr = Counter(y_train)  #will return a dictionaly of howmany 1 and zero. eg {0: 34, 1:78}\n",
    "train_len = len(y_train)\n",
    "print(\"Class 0: \",int(train_distr[0])/train_len,\"Class 1: \", int(train_distr[1])/train_len)\n",
    "print(\"-\"*10, \"Distribution of output variable in test data\", \"-\"*10)\n",
    "test_distr = Counter(y_test)\n",
    "test_len = len(y_test)\n",
    "print(\"Class 0: \",int(test_distr[1])/test_len, \"Class 1: \",int(test_distr[1])/test_len)"
   ]
  },
  {
   "cell_type": "code",
   "execution_count": 147,
   "metadata": {},
   "outputs": [
    {
     "name": "stdout",
     "output_type": "stream",
     "text": [
      "Log loss on Test Data using Random Model 0.886910813515842\n"
     ]
    },
    {
     "data": {
      "image/png": "[encoded data removed]",
      "text/plain": [
       "<Figure size 1440x288 with 6 Axes>"
      ]
     },
     "metadata": {
      "needs_background": "light"
     },
     "output_type": "display_data"
    }
   ],
   "source": [
    "# we need to generate 9 numbers and the sum of numbers should be 1\n",
    "# one solution is to genarate 9 numbers and divide each of the numbers by their sum\n",
    "# ref: https://stackoverflow.com/a/18662466/4084039\n",
    "# we create a output array that has exactly same size as the CV data\n",
    "predicted_y = np.zeros((test_len,2))\n",
    "for i in range(test_len):\n",
    "    rand_probs = np.random.rand(1,2)\n",
    "    predicted_y[i] = ((rand_probs/sum(sum(rand_probs)))[0])\n",
    "print(\"Log loss on Test Data using Random Model\",log_loss(y_test, predicted_y, eps=1e-15))\n",
    "\n",
    "predicted_y =np.argmax(predicted_y, axis=1)\n",
    "plot_confusion_matrix(y_test, predicted_y)"
   ]
  },
  {
   "cell_type": "markdown",
   "metadata": {},
   "source": [
    "## Logistic Regression with Hyperparameter Tuning"
   ]
  },
  {
   "cell_type": "code",
   "execution_count": 148,
   "metadata": {},
   "outputs": [
    {
     "name": "stdout",
     "output_type": "stream",
     "text": [
      "For values of alpha =  1e-05 The log loss is: 0.6570136275973378\n",
      "For values of alpha =  0.0001 The log loss is: 0.6570136275973378\n",
      "For values of alpha =  0.001 The log loss is: 0.6570136275973378\n",
      "For values of alpha =  0.01 The log loss is: 0.6570136275973378\n",
      "For values of alpha =  0.1 The log loss is: 0.6570136275973378\n",
      "For values of alpha =  1 The log loss is: 0.6570136275973378\n",
      "For values of alpha =  10 The log loss is: 0.6570136275973378\n"
     ]
    },
    {
     "data": {
      "image/png": "[encoded data removed]",
      "text/plain": [
       "<Figure size 432x288 with 1 Axes>"
      ]
     },
     "metadata": {
      "needs_background": "light"
     },
     "output_type": "display_data"
    },
    {
     "name": "stdout",
     "output_type": "stream",
     "text": [
      "For values of best alpha =  1e-05 The train log loss is: 0.6591807615185924\n",
      "For values of best alpha =  1e-05 The test log loss is: 0.6570136275973378\n",
      "Total number of data points : 121287\n"
     ]
    },
    {
     "data": {
      "image/png": "[encoded data removed]",
      "text/plain": [
       "<Figure size 1440x288 with 6 Axes>"
      ]
     },
     "metadata": {
      "needs_background": "light"
     },
     "output_type": "display_data"
    }
   ],
   "source": [
    "alpha = [10 ** x for x in range(-5, 2)] # hyperparam for SGD classifier.\n",
    "\n",
    "# read more about SGDClassifier() at http://scikit-learn.org/stable/modules/generated/sklearn.linear_model.SGDClassifier.html\n",
    "# ------------------------------\n",
    "# default parameters\n",
    "# SGDClassifier(loss=’hinge’, penalty=’l2’, alpha=0.0001, l1_ratio=0.15, fit_intercept=True, max_iter=None, tol=None, \n",
    "# shuffle=True, verbose=0, epsilon=0.1, n_jobs=1, random_state=None, learning_rate=’optimal’, eta0=0.0, power_t=0.5, \n",
    "# class_weight=None, warm_start=False, average=False, n_iter=None)\n",
    "\n",
    "# some of methods\n",
    "# fit(X, y[, coef_init, intercept_init, …])\tFit linear model with Stochastic Gradient Descent.\n",
    "# predict(X)\tPredict class labels for samples in X.\n",
    "\n",
    "#-------------------------------\n",
    "# video link: \n",
    "#------------------------------\n",
    "\n",
    "\n",
    "log_error_array=[]\n",
    "for i in alpha:\n",
    "    clf = SGDClassifier(alpha=i, penalty='l2', loss='log', random_state=42)\n",
    "    clf.fit(X_train, y_train)\n",
    "    sig_clf = CalibratedClassifierCV(clf, method=\"sigmoid\")\n",
    "    sig_clf.fit(X_train, y_train)\n",
    "    predict_y = sig_clf.predict_proba(X_test)\n",
    "    log_error_array.append(log_loss(y_test, predict_y, labels=clf.classes_, eps=1e-15))\n",
    "    print('For values of alpha = ', i, \"The log loss is:\",log_loss(y_test, predict_y, labels=clf.classes_, eps=1e-15))\n",
    "\n",
    "fig, ax = plt.subplots()\n",
    "ax.plot(alpha, log_error_array,c='g')\n",
    "for i, txt in enumerate(np.round(log_error_array,3)):\n",
    "    ax.annotate((alpha[i],np.round(txt,3)), (alpha[i],log_error_array[i]))\n",
    "plt.grid()\n",
    "plt.title(\"Cross Validation Error for each alpha\")\n",
    "plt.xlabel(\"Alpha i's\")\n",
    "plt.ylabel(\"Error measure\")\n",
    "plt.show()\n",
    "\n",
    "\n",
    "best_alpha = np.argmin(log_error_array)\n",
    "clf = SGDClassifier(alpha=alpha[best_alpha], penalty='l2', loss='log', random_state=42)\n",
    "clf.fit(X_train, y_train)\n",
    "sig_clf = CalibratedClassifierCV(clf, method=\"sigmoid\")\n",
    "sig_clf.fit(X_train, y_train)\n",
    "\n",
    "predict_y = sig_clf.predict_proba(X_train)\n",
    "print('For values of best alpha = ', alpha[best_alpha], \"The train log loss is:\",log_loss(y_train, predict_y, labels=clf.classes_, eps=1e-15))\n",
    "predict_y = sig_clf.predict_proba(X_test)\n",
    "print('For values of best alpha = ', alpha[best_alpha], \"The test log loss is:\",log_loss(y_test, predict_y, labels=clf.classes_, eps=1e-15))\n",
    "predicted_y =np.argmax(predict_y,axis=1)\n",
    "print(\"Total number of data points :\", len(predicted_y))\n",
    "plot_confusion_matrix(y_test, predicted_y)"
   ]
  },
  {
   "cell_type": "markdown",
   "metadata": {},
   "source": [
    "## Linear SVM with Hyperparameter Tuning"
   ]
  },
  {
   "cell_type": "code",
   "execution_count": 149,
   "metadata": {},
   "outputs": [
    {
     "name": "stdout",
     "output_type": "stream",
     "text": [
      "For values of alpha =  1e-05 The log loss is: 0.6570136275973378\n",
      "For values of alpha =  0.0001 The log loss is: 0.6570136275973378\n",
      "For values of alpha =  0.001 The log loss is: 0.6570136275973378\n",
      "For values of alpha =  0.01 The log loss is: 0.6570136275973378\n",
      "For values of alpha =  0.1 The log loss is: 0.6570136275973378\n",
      "For values of alpha =  1 The log loss is: 0.6393926484757468\n",
      "For values of alpha =  10 The log loss is: 0.6509614055726312\n"
     ]
    },
    {
     "data": {
      "image/png": "[encoded data removed]",
      "text/plain": [
       "<Figure size 432x288 with 1 Axes>"
      ]
     },
     "metadata": {
      "needs_background": "light"
     },
     "output_type": "display_data"
    },
    {
     "name": "stdout",
     "output_type": "stream",
     "text": [
      "For values of best alpha =  1 The train log loss is: 0.6416219868892176\n",
      "For values of best alpha =  1 The test log loss is: 0.6393926484757468\n",
      "Total number of data points : 121287\n"
     ]
    },
    {
     "data": {
      "image/png": "[encoded data removed]",
      "text/plain": [
       "<Figure size 1440x288 with 6 Axes>"
      ]
     },
     "metadata": {
      "needs_background": "light"
     },
     "output_type": "display_data"
    }
   ],
   "source": [
    "alpha = [10 ** x for x in range(-5, 2)] # hyperparam for SGD classifier.\n",
    "\n",
    "# read more about SGDClassifier() at http://scikit-learn.org/stable/modules/generated/sklearn.linear_model.SGDClassifier.html\n",
    "# ------------------------------\n",
    "# default parameters\n",
    "# SGDClassifier(loss=’hinge’, penalty=’l2’, alpha=0.0001, l1_ratio=0.15, fit_intercept=True, max_iter=None, tol=None, \n",
    "# shuffle=True, verbose=0, epsilon=0.1, n_jobs=1, random_state=None, learning_rate=’optimal’, eta0=0.0, power_t=0.5, \n",
    "# class_weight=None, warm_start=False, average=False, n_iter=None)\n",
    "\n",
    "# some of methods\n",
    "# fit(X, y[, coef_init, intercept_init, …])\tFit linear model with Stochastic Gradient Descent.\n",
    "# predict(X)\tPredict class labels for samples in X.\n",
    "\n",
    "#-------------------------------\n",
    "# video link: \n",
    "#------------------------------\n",
    "\n",
    "\n",
    "log_error_array=[]\n",
    "for i in alpha:\n",
    "    clf = SGDClassifier(alpha=i, penalty='l1', loss='hinge', random_state=42)\n",
    "    clf.fit(X_train, y_train)\n",
    "    sig_clf = CalibratedClassifierCV(clf, method=\"sigmoid\")\n",
    "    sig_clf.fit(X_train, y_train)\n",
    "    predict_y = sig_clf.predict_proba(X_test)\n",
    "    log_error_array.append(log_loss(y_test, predict_y, labels=clf.classes_, eps=1e-15))\n",
    "    print('For values of alpha = ', i, \"The log loss is:\",log_loss(y_test, predict_y, labels=clf.classes_, eps=1e-15))\n",
    "\n",
    "fig, ax = plt.subplots()\n",
    "ax.plot(alpha, log_error_array,c='g')\n",
    "for i, txt in enumerate(np.round(log_error_array,3)):\n",
    "    ax.annotate((alpha[i],np.round(txt,3)), (alpha[i],log_error_array[i]))\n",
    "plt.grid()\n",
    "plt.title(\"Cross Validation Error for each alpha\")\n",
    "plt.xlabel(\"Alpha i's\")\n",
    "plt.ylabel(\"Error measure\")\n",
    "plt.show()\n",
    "\n",
    "\n",
    "best_alpha = np.argmin(log_error_array)\n",
    "clf = SGDClassifier(alpha=alpha[best_alpha], penalty='l1', loss='hinge', random_state=42)\n",
    "clf.fit(X_train, y_train)\n",
    "sig_clf = CalibratedClassifierCV(clf, method=\"sigmoid\")\n",
    "sig_clf.fit(X_train, y_train)\n",
    "\n",
    "predict_y = sig_clf.predict_proba(X_train)\n",
    "print('For values of best alpha = ', alpha[best_alpha], \"The train log loss is:\",log_loss(y_train, predict_y, labels=clf.classes_, eps=1e-15))\n",
    "predict_y = sig_clf.predict_proba(X_test)\n",
    "print('For values of best alpha = ', alpha[best_alpha], \"The test log loss is:\",log_loss(y_test, predict_y, labels=clf.classes_, eps=1e-15))\n",
    "predicted_y =np.argmax(predict_y,axis=1)\n",
    "print(\"Total number of data points :\", len(predicted_y))\n",
    "plot_confusion_matrix(y_test, predicted_y)"
   ]
  },
  {
   "cell_type": "markdown",
   "metadata": {},
   "source": [
    "## XGBoost"
   ]
  },
  {
   "cell_type": "code",
   "execution_count": 150,
   "metadata": {},
   "outputs": [
    {
     "name": "stdout",
     "output_type": "stream",
     "text": [
      "[0]\ttrain-logloss:0.684909\tvalid-logloss:0.684832\n",
      "Multiple eval metrics have been passed: 'valid-logloss' will be used for early stopping.\n",
      "\n",
      "Will train until valid-logloss hasn't improved in 20 rounds.\n",
      "[10]\ttrain-logloss:0.615575\tvalid-logloss:0.615056\n",
      "[20]\ttrain-logloss:0.564875\tvalid-logloss:0.564039\n",
      "[30]\ttrain-logloss:0.526904\tvalid-logloss:0.525881\n",
      "[40]\ttrain-logloss:0.497752\tvalid-logloss:0.496588\n",
      "[50]\ttrain-logloss:0.474809\tvalid-logloss:0.473433\n",
      "[60]\ttrain-logloss:0.456484\tvalid-logloss:0.454979\n",
      "[70]\ttrain-logloss:0.441771\tvalid-logloss:0.440188\n",
      "[80]\ttrain-logloss:0.429998\tvalid-logloss:0.428366\n",
      "[90]\ttrain-logloss:0.420332\tvalid-logloss:0.418676\n",
      "[100]\ttrain-logloss:0.412104\tvalid-logloss:0.410416\n",
      "[110]\ttrain-logloss:0.405405\tvalid-logloss:0.40372\n",
      "[120]\ttrain-logloss:0.399691\tvalid-logloss:0.398011\n",
      "[130]\ttrain-logloss:0.394907\tvalid-logloss:0.393238\n",
      "[140]\ttrain-logloss:0.390972\tvalid-logloss:0.389278\n",
      "[150]\ttrain-logloss:0.387399\tvalid-logloss:0.385707\n",
      "[160]\ttrain-logloss:0.384474\tvalid-logloss:0.382787\n",
      "[170]\ttrain-logloss:0.381926\tvalid-logloss:0.38023\n",
      "[180]\ttrain-logloss:0.379543\tvalid-logloss:0.377848\n",
      "[190]\ttrain-logloss:0.377678\tvalid-logloss:0.375991\n",
      "[200]\ttrain-logloss:0.375921\tvalid-logloss:0.37427\n",
      "[210]\ttrain-logloss:0.3744\tvalid-logloss:0.372789\n",
      "[220]\ttrain-logloss:0.372787\tvalid-logloss:0.37121\n",
      "[230]\ttrain-logloss:0.37135\tvalid-logloss:0.369804\n",
      "[240]\ttrain-logloss:0.36998\tvalid-logloss:0.368477\n",
      "[250]\ttrain-logloss:0.368282\tvalid-logloss:0.366831\n",
      "[260]\ttrain-logloss:0.366692\tvalid-logloss:0.365284\n",
      "[270]\ttrain-logloss:0.365428\tvalid-logloss:0.364051\n",
      "[280]\ttrain-logloss:0.364414\tvalid-logloss:0.363076\n",
      "[290]\ttrain-logloss:0.363545\tvalid-logloss:0.362232\n",
      "[300]\ttrain-logloss:0.362608\tvalid-logloss:0.361334\n",
      "[310]\ttrain-logloss:0.361735\tvalid-logloss:0.360502\n",
      "[320]\ttrain-logloss:0.36099\tvalid-logloss:0.359785\n",
      "[330]\ttrain-logloss:0.360084\tvalid-logloss:0.358922\n",
      "[340]\ttrain-logloss:0.359343\tvalid-logloss:0.358225\n",
      "[350]\ttrain-logloss:0.358601\tvalid-logloss:0.357525\n",
      "[360]\ttrain-logloss:0.357955\tvalid-logloss:0.356921\n",
      "[370]\ttrain-logloss:0.357281\tvalid-logloss:0.356313\n",
      "[380]\ttrain-logloss:0.35656\tvalid-logloss:0.355638\n",
      "[390]\ttrain-logloss:0.355987\tvalid-logloss:0.355116\n",
      "[399]\ttrain-logloss:0.355472\tvalid-logloss:0.354647\n",
      "The test log loss is: 0.35464699561102575\n"
     ]
    }
   ],
   "source": [
    "import xgboost as xgb\n",
    "params = {}\n",
    "params['objective'] = 'binary:logistic'\n",
    "params['eval_metric'] = 'logloss'\n",
    "params['eta'] = 0.02\n",
    "params['max_depth'] = 4\n",
    "\n",
    "d_train = xgb.DMatrix(X_train, label=y_train)\n",
    "d_test = xgb.DMatrix(X_test, label=y_test)\n",
    "\n",
    "watchlist = [(d_train, 'train'), (d_test, 'valid')]\n",
    "\n",
    "bst = xgb.train(params, d_train, 400, watchlist, early_stopping_rounds=20, verbose_eval=10)\n",
    "\n",
    "xgdmat = xgb.DMatrix(X_train,y_train)\n",
    "predict_y = bst.predict(d_test)\n",
    "print(\"The test log loss is:\",log_loss(y_test, predict_y, labels=clf.classes_, eps=1e-15))"
   ]
  },
  {
   "cell_type": "markdown",
   "metadata": {},
   "source": [
    "## XGBOOST using Hyperparameter Tuning"
   ]
  },
  {
   "cell_type": "code",
   "execution_count": 152,
   "metadata": {},
   "outputs": [
    {
     "name": "stdout",
     "output_type": "stream",
     "text": [
      "Fitting 3 folds for each of 30 candidates, totalling 90 fits\n"
     ]
    },
    {
     "name": "stderr",
     "output_type": "stream",
     "text": [
      "[Parallel(n_jobs=-1)]: Using backend LokyBackend with 16 concurrent workers.\n",
      "[Parallel(n_jobs=-1)]: Done   1 tasks      | elapsed:   42.6s\n",
      "[Parallel(n_jobs=-1)]: Done   2 tasks      | elapsed:   45.4s\n",
      "[Parallel(n_jobs=-1)]: Done   3 tasks      | elapsed:   46.5s\n",
      "[Parallel(n_jobs=-1)]: Done   4 tasks      | elapsed:   46.8s\n",
      "[Parallel(n_jobs=-1)]: Done   5 tasks      | elapsed:   47.4s\n",
      "[Parallel(n_jobs=-1)]: Done   6 tasks      | elapsed:   51.3s\n",
      "[Parallel(n_jobs=-1)]: Done   7 tasks      | elapsed:   51.4s\n",
      "[Parallel(n_jobs=-1)]: Done   8 tasks      | elapsed:   51.5s\n",
      "[Parallel(n_jobs=-1)]: Done   9 tasks      | elapsed:   52.4s\n",
      "[Parallel(n_jobs=-1)]: Done  10 tasks      | elapsed:  1.6min\n",
      "[Parallel(n_jobs=-1)]: Done  11 tasks      | elapsed:  1.6min\n",
      "[Parallel(n_jobs=-1)]: Done  12 tasks      | elapsed:  1.7min\n",
      "[Parallel(n_jobs=-1)]: Done  13 tasks      | elapsed:  1.8min\n",
      "[Parallel(n_jobs=-1)]: Done  14 tasks      | elapsed:  2.0min\n",
      "[Parallel(n_jobs=-1)]: Done  15 tasks      | elapsed:  2.0min\n",
      "[Parallel(n_jobs=-1)]: Done  16 tasks      | elapsed:  2.2min\n",
      "[Parallel(n_jobs=-1)]: Done  17 tasks      | elapsed:  2.3min\n",
      "[Parallel(n_jobs=-1)]: Done  18 tasks      | elapsed:  2.3min\n",
      "[Parallel(n_jobs=-1)]: Done  19 tasks      | elapsed:  2.3min\n",
      "[Parallel(n_jobs=-1)]: Done  20 tasks      | elapsed:  2.4min\n",
      "[Parallel(n_jobs=-1)]: Done  21 tasks      | elapsed:  2.4min\n",
      "[Parallel(n_jobs=-1)]: Done  22 tasks      | elapsed:  3.3min\n",
      "[Parallel(n_jobs=-1)]: Done  23 tasks      | elapsed:  3.5min\n",
      "[Parallel(n_jobs=-1)]: Done  24 tasks      | elapsed:  3.7min\n",
      "[Parallel(n_jobs=-1)]: Done  25 tasks      | elapsed:  3.7min\n",
      "[Parallel(n_jobs=-1)]: Done  26 tasks      | elapsed:  3.8min\n",
      "[Parallel(n_jobs=-1)]: Done  27 tasks      | elapsed:  3.8min\n",
      "[Parallel(n_jobs=-1)]: Done  28 tasks      | elapsed:  3.9min\n",
      "[Parallel(n_jobs=-1)]: Done  29 tasks      | elapsed:  4.2min\n",
      "[Parallel(n_jobs=-1)]: Done  30 tasks      | elapsed:  4.3min\n",
      "[Parallel(n_jobs=-1)]: Done  31 tasks      | elapsed:  4.3min\n",
      "[Parallel(n_jobs=-1)]: Done  32 tasks      | elapsed:  4.3min\n",
      "[Parallel(n_jobs=-1)]: Done  33 tasks      | elapsed:  4.4min\n",
      "[Parallel(n_jobs=-1)]: Done  34 tasks      | elapsed:  4.4min\n",
      "[Parallel(n_jobs=-1)]: Done  35 tasks      | elapsed:  4.4min\n",
      "[Parallel(n_jobs=-1)]: Done  36 tasks      | elapsed:  4.5min\n",
      "[Parallel(n_jobs=-1)]: Done  37 tasks      | elapsed:  4.5min\n",
      "[Parallel(n_jobs=-1)]: Done  38 tasks      | elapsed:  5.0min\n",
      "[Parallel(n_jobs=-1)]: Done  39 tasks      | elapsed:  5.0min\n",
      "[Parallel(n_jobs=-1)]: Done  40 tasks      | elapsed:  5.1min\n",
      "[Parallel(n_jobs=-1)]: Done  41 tasks      | elapsed:  5.2min\n",
      "[Parallel(n_jobs=-1)]: Done  42 tasks      | elapsed:  5.5min\n",
      "[Parallel(n_jobs=-1)]: Done  43 tasks      | elapsed:  5.6min\n",
      "[Parallel(n_jobs=-1)]: Done  44 tasks      | elapsed:  5.7min\n",
      "[Parallel(n_jobs=-1)]: Done  45 tasks      | elapsed:  5.7min\n",
      "[Parallel(n_jobs=-1)]: Done  46 tasks      | elapsed:  5.7min\n",
      "[Parallel(n_jobs=-1)]: Done  47 tasks      | elapsed:  5.7min\n",
      "[Parallel(n_jobs=-1)]: Done  48 tasks      | elapsed:  5.8min\n",
      "[Parallel(n_jobs=-1)]: Done  49 tasks      | elapsed:  5.9min\n",
      "[Parallel(n_jobs=-1)]: Done  50 tasks      | elapsed:  6.0min\n",
      "[Parallel(n_jobs=-1)]: Done  51 tasks      | elapsed:  6.0min\n",
      "[Parallel(n_jobs=-1)]: Done  52 tasks      | elapsed:  6.4min\n",
      "[Parallel(n_jobs=-1)]: Done  53 tasks      | elapsed:  6.5min\n",
      "[Parallel(n_jobs=-1)]: Done  54 tasks      | elapsed:  6.5min\n",
      "[Parallel(n_jobs=-1)]: Done  55 tasks      | elapsed:  6.6min\n",
      "[Parallel(n_jobs=-1)]: Done  56 tasks      | elapsed:  6.7min\n",
      "[Parallel(n_jobs=-1)]: Done  57 tasks      | elapsed:  6.7min\n",
      "[Parallel(n_jobs=-1)]: Done  58 tasks      | elapsed:  6.7min\n",
      "[Parallel(n_jobs=-1)]: Done  59 tasks      | elapsed:  6.8min\n",
      "[Parallel(n_jobs=-1)]: Done  64 out of  90 | elapsed:  7.5min remaining:  3.0min\n",
      "[Parallel(n_jobs=-1)]: Done  69 out of  90 | elapsed:  7.9min remaining:  2.4min\n",
      "[Parallel(n_jobs=-1)]: Done  74 out of  90 | elapsed:  8.1min remaining:  1.7min\n",
      "[Parallel(n_jobs=-1)]: Done  79 out of  90 | elapsed:  8.9min remaining:  1.2min\n",
      "[Parallel(n_jobs=-1)]: Done  84 out of  90 | elapsed:  9.2min remaining:   39.5s\n",
      "[Parallel(n_jobs=-1)]: Done  90 out of  90 | elapsed: 10.9min finished\n",
      "C:\\ProgramData\\Anaconda3\\lib\\site-packages\\sklearn\\model_selection\\_search.py:841: DeprecationWarning: The default of the `iid` parameter will change from True to False in version 0.22 and will be removed in 0.24. This will change numeric results when test-set sizes are unequal.\n",
      "  DeprecationWarning)\n"
     ]
    },
    {
     "name": "stdout",
     "output_type": "stream",
     "text": [
      "Best score :  -0.3328970966606883\n",
      "Best Parameters {'n_estimators': 90, 'max_depth': 5, 'learning_rate': 0.2, 'gamma': 1.0}\n"
     ]
    }
   ],
   "source": [
    "import xgboost as xgb\n",
    "from sklearn.model_selection import RandomizedSearchCV\n",
    "\n",
    "params = {\n",
    "        'max_depth': [i for i in range(1,8,2)],\n",
    "        'n_estimators' : [i*10 for i in range(1, 10)],\n",
    "         'gamma': [0, 0.25, 0.5, 1.0],'learning_rate': [0.001, 0.01, 0.1, 0.2, 0,3]         \n",
    "        }\n",
    "xgboost_model = xgb.XGBClassifier(objective='binary:logistic', eval_metric='logloss',n_jobs=-1)\n",
    "\n",
    "xgb_search = RandomizedSearchCV(xgboost_model, param_distributions = params,n_iter=30,\n",
    "                         scoring = 'neg_log_loss', n_jobs = -1,cv=3, verbose=20)\n",
    "\n",
    "xgb_search.fit(X_train, y_train)\n",
    "\n",
    "print(\"Best score : \",xgb_search.best_score_)\n",
    "print(\"Best Parameters\",xgb_search.best_params_)"
   ]
  },
  {
   "cell_type": "code",
   "execution_count": 153,
   "metadata": {},
   "outputs": [
    {
     "name": "stdout",
     "output_type": "stream",
     "text": [
      "Log loss for tfidf train data :  0.32958004235646765\n",
      "Log loss for tfidf test data :  0.33745821903961576\n"
     ]
    },
    {
     "data": {
      "image/png": "[encoded data removed]",
      "text/plain": [
       "<Figure size 1440x288 with 6 Axes>"
      ]
     },
     "metadata": {
      "needs_background": "light"
     },
     "output_type": "display_data"
    }
   ],
   "source": [
    "clf = xgb.XGBClassifier(max_depth=5,learning_rate=0.2,objective='binary:logistic',gamma=1.0,n_estimators=90,n_jobs=-1)\n",
    "clf.fit(X_train, y_train)   \n",
    "\n",
    "#log loss uses a exact prob score \n",
    "cal_clf = CalibratedClassifierCV(clf, method=\"sigmoid\")\n",
    "cal_clf.fit(X_train, y_train)\n",
    "\n",
    "predict_y = cal_clf.predict_proba(X_train)\n",
    "\n",
    "print(\"Log loss for tfidf train data : \",log_loss(y_train, predict_y,  eps=1e-15))\n",
    "predict_y = cal_clf.predict_proba(X_test)\n",
    "\n",
    "print(\"Log loss for tfidf test data : \",log_loss(y_test, predict_y,  eps=1e-15))\n",
    "predicted_y =np.argmax(predict_y,axis=1)\n",
    "plot_confusion_matrix(y_test, predicted_y)"
   ]
  },
  {
   "cell_type": "markdown",
   "metadata": {},
   "source": [
    "# Conclusion"
   ]
  },
  {
   "cell_type": "code",
   "execution_count": 156,
   "metadata": {},
   "outputs": [
    {
     "name": "stdout",
     "output_type": "stream",
     "text": [
      "+------------+----------------------+---------------------+---------------------+\n",
      "| Vectorizer |      Estimator       |    Train log loss   |    Test log loss    |\n",
      "+------------+----------------------+---------------------+---------------------+\n",
      "| TFIDF W2V  | Logistics Regression |  0.5101453297915229 |  0.5145708244250301 |\n",
      "| TFIDF W2V  |      Linear SVM      |  0.4815323702975848 |  0.4885874377203666 |\n",
      "| TFIDF W2V  |       XG Boost       |  0.3147937625931934 |  0.3572127318255224 |\n",
      "|   TFIDF    | Logistics Regression |  0.6591807615185924 |  0.6570136275973378 |\n",
      "|   TFIDF    |      Linear SVM      |  0.6416219868892176 |  0.6393926484757468 |\n",
      "|   TFIDF    |       XG Boost       | 0.32958004235646765 | 0.33745821903961576 |\n",
      "+------------+----------------------+---------------------+---------------------+\n"
     ]
    }
   ],
   "source": [
    "from prettytable import PrettyTable\n",
    "\n",
    "x = PrettyTable()\n",
    "x.field_names = [\"Vectorizer\", \"Estimator\", \"Train log loss\", \"Test log loss\"]\n",
    "x.add_row([\"TFIDF W2V\", \"Logistics Regression\", 0.5101453297915229, 0.5145708244250301])\n",
    "x.add_row([\"TFIDF W2V\", \"Linear SVM\", 0.4815323702975848, 0.4885874377203666])\n",
    "x.add_row([\"TFIDF W2V\", \"XG Boost\", 0.3147937625931934, 0.3572127318255224])\n",
    "x.add_row([\"TFIDF\", \"Logistics Regression\", 0.6591807615185924, 0.6570136275973378])\n",
    "x.add_row([\"TFIDF\", \"Linear SVM\", 0.6416219868892176, 0.6393926484757468])\n",
    "x.add_row([\"TFIDF\", \"XG Boost\", 0.32958004235646765, 0.33745821903961576])\n",
    "\n",
    "print(x)"
   ]
  }
 ],
 "metadata": {
  "colab": {
   "name": "4.ML_models.ipynb",
   "provenance": [],
   "version": "0.3.2"
  },
  "kernelspec": {
   "display_name": "Python 3",
   "language": "python",
   "name": "python3"
  },
  "language_info": {
   "codemirror_mode": {
    "name": "ipython",
    "version": 3
   },
   "file_extension": ".py",
   "mimetype": "text/x-python",
   "name": "python",
   "nbconvert_exporter": "python",
   "pygments_lexer": "ipython3",
   "version": "3.7.3"
  },
  "toc": {
   "base_numbering": 1,
   "nav_menu": {},
   "number_sections": true,
   "sideBar": true,
   "skip_h1_title": false,
   "title_cell": "Table of Contents",
   "title_sidebar": "Contents",
   "toc_cell": false,
   "toc_position": {},
   "toc_section_display": true,
   "toc_window_display": false
  }
 },
 "nbformat": 4,
 "nbformat_minor": 1
}
